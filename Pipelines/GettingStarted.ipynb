{
 "cells": [
  {
   "cell_type": "markdown",
   "id": "6c9f1f11-4939-4db0-aa7e-ae0cc247f386",
   "metadata": {},
   "source": [
    "# Ligand-based screening pipeline \n",
    "\n",
    "Getting Started   \n"
   ]
  },
  {
   "cell_type": "markdown",
   "id": "3263d33e-8083-49fa-b35f-6c7880834137",
   "metadata": {
    "tags": []
   },
   "source": [
    "## Task 1: Data set assembly\n",
    "\n",
    "**Query [ChEMBL](https://www.ebi.ac.uk/chembl/)** \n",
    "\n",
    "* You can either manually query the database for EGFR compounds \n",
    "* or do this programmatically. \n",
    "\n",
    "Since using the API requires quite some steps, we will walk you through it\n",
    "* using the TeachOpenCADD material ([T001: Compound data acquisition (ChEMBL)](https://projects.volkamerlab.org/teachopencadd/talktorials/T001_query_chembl.html)), \n",
    "* but this could become a part of your pipeline in the future.\n",
    "\n",
    "Additional material\n",
    "* [T011 - Querying online api webservices](https://projects.volkamerlab.org/teachopencadd/talktorials/T011_query_online_api_webservices.html)\n",
    "* [T013 - Query PubChem](https://projects.volkamerlab.org/teachopencadd/talktorials/T013_query_pubchem.html)"
   ]
  },
  {
   "cell_type": "markdown",
   "id": "f6ea05bd-c758-4719-8443-6c4ec929408e",
   "metadata": {},
   "source": [
    "## Task 2: Some basic molecular data set computations \n",
    "\n",
    "### 2.1: Read and prepare your data set\n",
    "\n",
    "* Read the input data set in a dataframe (path) "
   ]
  },
  {
   "cell_type": "code",
   "execution_count": null,
   "id": "3d24a472-5324-4bbb-b277-517689e21414",
   "metadata": {},
   "outputs": [],
   "source": [
    "# TODO"
   ]
  },
  {
   "cell_type": "markdown",
   "id": "44e4f079-9ac0-4867-b486-2f3ad5188448",
   "metadata": {
    "tags": []
   },
   "source": [
    "* Generate Morgan fingerprints for the compounds and add this column to the dataframe"
   ]
  },
  {
   "cell_type": "code",
   "execution_count": 4,
   "id": "d890e5a1-4279-4792-8dc5-015d64893239",
   "metadata": {
    "tags": []
   },
   "outputs": [],
   "source": [
    "# TODO"
   ]
  },
  {
   "cell_type": "markdown",
   "id": "463bb134-a3b5-45b3-9e35-ddcac925a9cf",
   "metadata": {},
   "source": [
    "* Add a column to the dataframe indicating the activity of the compounds. \n",
    "\n",
    "Set the activity cutoff to pIC50 = 6.3 (which corresponds to 500nM), the higher the pIC50 value, the more active the compound. Set the values 1, 0 for active, inactive compounds respectively. "
   ]
  },
  {
   "cell_type": "code",
   "execution_count": null,
   "id": "4de136fc-6785-4952-8aa3-5614c42478dd",
   "metadata": {
    "tags": []
   },
   "outputs": [],
   "source": [
    "# TODO"
   ]
  },
  {
   "cell_type": "markdown",
   "id": "3eafb368-dfd4-4eba-8b50-22b2961804ef",
   "metadata": {},
   "source": [
    "## Task 3: Similarity search\n",
    "\n",
    "Calculate the similarity between the compounds and a selected known inhibitor (either get them from ChEMBL or read in the given drug data set from path) using a **circular fingerprint** and the **dice similarity** metric. \n",
    "\n",
    "Helpful talktorial: [T004-Compound similarity](https://projects.volkamerlab.org/teachopencadd/talktorials/T004_compound_similarity.html)"
   ]
  },
  {
   "cell_type": "code",
   "execution_count": 5,
   "id": "dae1cf5f-d41b-4d0c-aa47-be3218ae9139",
   "metadata": {
    "tags": []
   },
   "outputs": [],
   "source": [
    "# TODO"
   ]
  },
  {
   "cell_type": "markdown",
   "id": "3622a253-8147-4908-89a8-a2c6042e3d5c",
   "metadata": {
    "tags": []
   },
   "source": [
    "## Task 4: Cluster compounds\n",
    "* Cluster your compounds using Butina clustering with Tanimoto dissimilarity as distance metric.\n",
    "\n",
    "Helpful talktorial: [T005-Compound clustering](https://projects.volkamerlab.org/teachopencadd/talktorials/T005_compound_clustering.html) "
   ]
  },
  {
   "cell_type": "code",
   "execution_count": null,
   "id": "888f5357-0cd4-40a0-9d46-bb406e543a0e",
   "metadata": {},
   "outputs": [],
   "source": [
    "# TODO"
   ]
  },
  {
   "cell_type": "markdown",
   "id": "231bff03-50b4-4beb-8c17-5a2d66bed391",
   "metadata": {},
   "source": [
    "* [*advanced*] Based on the clustering, try to create a diverse subset of compounds by picking representatives of the clusters. "
   ]
  },
  {
   "cell_type": "code",
   "execution_count": null,
   "id": "25dbac82-9b80-438f-9b0f-1e9b3828ff4e",
   "metadata": {},
   "outputs": [],
   "source": [
    "# TODO"
   ]
  },
  {
   "cell_type": "markdown",
   "id": "bf063ec2-370c-4cc4-bc12-305565abab52",
   "metadata": {},
   "source": [
    "## Task 5: Maximum common substructure\n",
    "\n",
    "[*if time allows*]\n",
    "\n",
    "Identify and highlight the maximum common substructure (MCS) of the five EGFR inhibitors.\n",
    "\n",
    "Helpful talktorial: [T006-Maximum common substructures](https://projects.volkamerlab.org/teachopencadd/talktorials/T006_compound_maximum_common_substructures.html)"
   ]
  },
  {
   "cell_type": "code",
   "execution_count": null,
   "id": "fc4406cb-fe41-4eb4-903e-6aa81f9693d0",
   "metadata": {},
   "outputs": [],
   "source": []
  }
 ],
 "metadata": {
  "kernelspec": {
   "display_name": "Python 3 (ipykernel)",
   "language": "python",
   "name": "python3"
  },
  "language_info": {
   "codemirror_mode": {
    "name": "ipython",
    "version": 3
   },
   "file_extension": ".py",
   "mimetype": "text/x-python",
   "name": "python",
   "nbconvert_exporter": "python",
   "pygments_lexer": "ipython3",
   "version": "3.10.10"
  },
  "toc-autonumbering": false
 },
 "nbformat": 4,
 "nbformat_minor": 5
}
