{
 "cells": [
  {
   "cell_type": "markdown",
   "id": "6c9f1f11-4939-4db0-aa7e-ae0cc247f386",
   "metadata": {},
   "source": [
    "# Ligand-based screening pipeline \n",
    "\n",
    "Getting Started   \n"
   ]
  },
  {
   "cell_type": "markdown",
   "id": "3263d33e-8083-49fa-b35f-6c7880834137",
   "metadata": {
    "tags": []
   },
   "source": [
    "## Task 1: Data set assembly\n",
    "\n",
    "**Query [ChEMBL](https://www.ebi.ac.uk/chembl/)** \n",
    "\n",
    "* You can either manually query the database for EGFR compounds \n",
    "* or do this programmatically. \n",
    "\n",
    "Since using the API requires quite some steps, we will walk you through it\n",
    "* using the TeachOpenCADD material ([T001: Compound data acquisition (ChEMBL)](https://projects.volkamerlab.org/teachopencadd/talktorials/T001_query_chembl.html)), \n",
    "* but this could become a part of your pipeline in the future.\n",
    "\n",
    "Additional material\n",
    "* [T011 - Querying online api webservices](https://projects.volkamerlab.org/teachopencadd/talktorials/T011_query_online_api_webservices.html)\n",
    "* [T013 - Query PubChem](https://projects.volkamerlab.org/teachopencadd/talktorials/T013_query_pubchem.html)"
   ]
  },
  {
   "attachments": {},
   "cell_type": "markdown",
   "id": "f55d6f70-78b3-4b95-855f-e436b2a3247a",
   "metadata": {},
   "source": [
    "## Task 2: Some basic molecular data set computations "
   ]
  },
  {
   "cell_type": "markdown",
   "id": "9c679f15-1d15-4cea-a08c-2a65921bd317",
   "metadata": {
    "tags": []
   },
   "source": [
    "#### Import all necessary libraries"
   ]
  },
  {
   "cell_type": "code",
   "execution_count": null,
   "id": "125bb4f7-105e-4c6b-afef-9070bb7ca427",
   "metadata": {
    "tags": []
   },
   "outputs": [],
   "source": [
    "#data handling\n",
    "import numpy as np\n",
    "import pandas as pd\n",
    "\n",
    "# chemistry\n",
    "from rdkit import Chem\n",
    "from rdkit.Chem import Descriptors, Draw, PandasTools, DataStructs, rdFMCS\n",
    "from rdkit.Chem.AllChem import GetMorganFingerprintAsBitVect\n",
    "from rdkit.Chem.Draw import IPythonConsole, rdMolDraw2D\n",
    "from rdkit.ML.Cluster import Butina"
   ]
  },
  {
   "cell_type": "markdown",
   "id": "f6ea05bd-c758-4719-8443-6c4ec929408e",
   "metadata": {},
   "source": [
    "### 2.1: Read and prepare your data set\n",
    "\n",
    "#### 2.1.1. Read the input data \n",
    "\n",
    "Data can be found in a dataframe (`./data/EGFR_compounds_ChEMBL27.csv'`) "
   ]
  },
  {
   "cell_type": "code",
   "execution_count": null,
   "id": "3d24a472-5324-4bbb-b277-517689e21414",
   "metadata": {
    "tags": []
   },
   "outputs": [],
   "source": [
    "df=pd.read_csv('./data/EGFR_compounds_ChEMBL27.csv')\n",
    "# df.drop(['IC50','units','Unnamed: 0'], axis=1, inplace=True)\n",
    "df.head()"
   ]
  },
  {
   "cell_type": "markdown",
   "id": "93129747-e246-4d0e-87c3-bbd0a8bae7a0",
   "metadata": {},
   "source": [
    "#### 2.1.2.Generate molecules and calculate fingerprints\n",
    "\n",
    "##### We can do that stepwise in lists ...\n",
    "* Generate molecules ..."
   ]
  },
  {
   "cell_type": "code",
   "execution_count": null,
   "id": "6bdc67fd-32bf-4060-9834-f32a1dffe60f",
   "metadata": {
    "tags": []
   },
   "outputs": [],
   "source": [
    "mols = []\n",
    "for entry in df['smiles']:\n",
    "    mols.append(Chem.MolFromSmiles(entry))"
   ]
  },
  {
   "cell_type": "markdown",
   "id": "2a448b14-b51e-422b-b160-14916806946e",
   "metadata": {},
   "source": [
    "* Calculate fingerprints ..."
   ]
  },
  {
   "cell_type": "code",
   "execution_count": null,
   "id": "474eb40e-89db-443e-82fd-d7593a6463b8",
   "metadata": {
    "tags": []
   },
   "outputs": [],
   "source": [
    "fps = []\n",
    "for mol in mols:\n",
    "    fps.append(GetMorganFingerprintAsBitVect(mol,2))"
   ]
  },
  {
   "cell_type": "markdown",
   "id": "4feb2e54-12bc-4213-8e3a-cf4c1c9641e4",
   "metadata": {},
   "source": [
    "* and draw them ..."
   ]
  },
  {
   "cell_type": "code",
   "execution_count": null,
   "id": "21f5d65a-a125-4688-aafe-765c7bc952fa",
   "metadata": {
    "tags": []
   },
   "outputs": [],
   "source": [
    "# add names for legend\n",
    "names= []\n",
    "for name in df[\"molecule_chembl_id\"]:\n",
    "    names.append(name)"
   ]
  },
  {
   "cell_type": "code",
   "execution_count": null,
   "id": "1c8ada02-e44c-48f7-bc9e-6f32c87b48c2",
   "metadata": {
    "tags": []
   },
   "outputs": [],
   "source": [
    "Draw.MolsToGridImage(mols[:6], legends=names[:6])"
   ]
  },
  {
   "cell_type": "markdown",
   "id": "cb8a83b9-e527-4d2d-9998-46d019e13baf",
   "metadata": {},
   "source": [
    "##### And we can do the same directly on the dataframe\n",
    "* Add molecule column to dataframe"
   ]
  },
  {
   "cell_type": "code",
   "execution_count": null,
   "id": "73d6e9ea-6a0e-4bd8-837b-cfa40c36b38a",
   "metadata": {
    "tags": []
   },
   "outputs": [],
   "source": [
    "PandasTools.AddMoleculeColumnToFrame(df,'smiles','molecule',includeFingerprints=True)"
   ]
  },
  {
   "cell_type": "markdown",
   "id": "0fcfb00c-5181-4994-86f6-e546ac3fe488",
   "metadata": {},
   "source": [
    "* Generate Morgan fingerprints for the compounds and add this column to the dataframe"
   ]
  },
  {
   "cell_type": "code",
   "execution_count": null,
   "id": "465e5663-d78e-430f-b704-146048324f5d",
   "metadata": {
    "tags": []
   },
   "outputs": [],
   "source": [
    "df['morgan'] = df['molecule'].map(lambda x:GetMorganFingerprintAsBitVect(x,2))"
   ]
  },
  {
   "cell_type": "markdown",
   "id": "8f304cb6-08d5-433d-b0ea-7dcde9b7924c",
   "metadata": {},
   "source": [
    "* Draw the molecules"
   ]
  },
  {
   "cell_type": "code",
   "execution_count": null,
   "id": "c2ec1a0a-a97c-4c60-bdf2-798adf29a0d9",
   "metadata": {
    "tags": []
   },
   "outputs": [],
   "source": [
    "PandasTools.FrameToGridImage(df.head(6), column='molecule', legendsCol='molecule_chembl_id')"
   ]
  },
  {
   "cell_type": "markdown",
   "id": "463bb134-a3b5-45b3-9e35-ddcac925a9cf",
   "metadata": {},
   "source": [
    "#### 2.1.3 Calculate other information on our dataset\n",
    "\n",
    "In the same manner we can other information on our dataset (exemplifies some pandas functionality)\n",
    "\n",
    "* Add a column to the dataframe indicating the activity of the compounds.\n",
    "\n",
    "    Set the activity cutoff to pIC50 = 6.3 (which corresponds to 500nM), the higher the pIC50 value, the more active the compound. Set the values 1, 0 for active, inactive compounds respectively. "
   ]
  },
  {
   "cell_type": "code",
   "execution_count": null,
   "id": "4de136fc-6785-4952-8aa3-5614c42478dd",
   "metadata": {
    "tags": []
   },
   "outputs": [],
   "source": [
    "# TODO\n",
    "df['active'] = df['pIC50'].map(lambda x:x>6.3).astype(int)"
   ]
  },
  {
   "cell_type": "markdown",
   "id": "ce4d2139-2aa4-44e7-b735-b7fd74404618",
   "metadata": {},
   "source": [
    "* Add other molecular descriptors"
   ]
  },
  {
   "cell_type": "code",
   "execution_count": null,
   "id": "75e68e99-a0c7-4ddc-a40e-6b75d4f46cfe",
   "metadata": {
    "tags": []
   },
   "outputs": [],
   "source": [
    "df[\"molWt\"] = df[\"molecule\"].apply(Descriptors.ExactMolWt)\n",
    "df.head()"
   ]
  },
  {
   "cell_type": "markdown",
   "id": "4f1c80dc-afad-4a8f-bf6a-00f1c2f24da5",
   "metadata": {},
   "source": [
    "* And we can also directly plot the data"
   ]
  },
  {
   "cell_type": "code",
   "execution_count": null,
   "id": "c255e009-ee25-470c-88c3-6f72898fb82d",
   "metadata": {
    "tags": []
   },
   "outputs": [],
   "source": [
    "df[\"molWt\"].hist()"
   ]
  },
  {
   "cell_type": "markdown",
   "id": "f5dc17b0-189b-44a4-9760-c7bcd15fde2b",
   "metadata": {},
   "source": [
    "* Or we can filter the data ... and get some statistics on the values"
   ]
  },
  {
   "cell_type": "code",
   "execution_count": null,
   "id": "031acb1b-7f97-4bc2-bd57-39b238dcb51d",
   "metadata": {
    "tags": []
   },
   "outputs": [],
   "source": [
    "df=df[df['molWt']<900]\n",
    "df.describe()"
   ]
  },
  {
   "attachments": {},
   "cell_type": "markdown",
   "id": "3eafb368-dfd4-4eba-8b50-22b2961804ef",
   "metadata": {},
   "source": [
    "## Task 3: Similarity search\n",
    "\n",
    "Calculate the similarity between the compounds and a selected known inhibitor (e.g. Gefitinib) using a **circular fingerprint** and the **Tanimoto similarity** metric. \n",
    "\n",
    "Helpful talktorial: [T004-Compound similarity](https://projects.volkamerlab.org/teachopencadd/talktorials/T004_compound_similarity.html)\n",
    "\n",
    "### 3.1. Select query compound\n",
    "\n",
    "FDA approved EGFR inhibitor Gefitinib: `COc1cc2ncnc(Nc3ccc(F)c(Cl)c3)c2cc1OCCCN1CCOCC1`"
   ]
  },
  {
   "cell_type": "code",
   "execution_count": null,
   "id": "fbe8c913-ceb6-45da-816d-8b2a70f212b5",
   "metadata": {
    "tags": []
   },
   "outputs": [],
   "source": [
    "gefitinib = Chem.MolFromSmiles(\"COc1cc2ncnc(Nc3ccc(F)c(Cl)c3)c2cc1OCCCN1CCOCC1\")"
   ]
  },
  {
   "cell_type": "markdown",
   "id": "bba64af8-c722-4b6e-9fc0-da51967c8bfa",
   "metadata": {},
   "source": [
    "### 3.2. Let's define a function that can do the job ..."
   ]
  },
  {
   "cell_type": "code",
   "execution_count": null,
   "id": "dae1cf5f-d41b-4d0c-aa47-be3218ae9139",
   "metadata": {
    "tags": []
   },
   "outputs": [],
   "source": [
    "def get_dataframe_with_x_most_similar_compounds_to_query(query, mol_df, molCol='molecule', x=10):\n",
    "    query_fp = GetMorganFingerprintAsBitVect(query,2)\n",
    "    mol_df['similarity'] = mol_df['morgan'].map(lambda x:DataStructs.TanimotoSimilarity(query_fp, x))\n",
    "    mol_df.sort_values(['similarity'], ascending=False, inplace=True)\n",
    "    return mol_df[:x]           "
   ]
  },
  {
   "cell_type": "markdown",
   "id": "9b450a81-d312-4c42-9185-534a6d9d0fa9",
   "metadata": {},
   "source": [
    "### 3.2. Now we call the function ..."
   ]
  },
  {
   "cell_type": "code",
   "execution_count": null,
   "id": "014d999b-58e2-4a4f-a7a6-c5781de3e6cf",
   "metadata": {
    "tags": []
   },
   "outputs": [],
   "source": [
    "sim_df = get_dataframe_with_x_most_similar_compounds_to_query(gefitinib, df)"
   ]
  },
  {
   "cell_type": "code",
   "execution_count": null,
   "id": "038ce96e-7bb5-4d76-8c54-b3fccb0761c4",
   "metadata": {
    "tags": []
   },
   "outputs": [],
   "source": [
    "PandasTools.FrameToGridImage(sim_df.head(6), column='molecule', legendsCol='similarity')"
   ]
  },
  {
   "cell_type": "markdown",
   "id": "3622a253-8147-4908-89a8-a2c6042e3d5c",
   "metadata": {
    "tags": []
   },
   "source": [
    "## Task 4: Cluster compounds\n",
    "\n",
    "* Cluster your compounds using Butina clustering with Tanimoto **dis**similarity as distance metric.\n",
    "    * Calculate distance matrix\n",
    "    * Do Butina clustering\n",
    "\n",
    "Helpful talktorial: [T005-Compound clustering](https://projects.volkamerlab.org/teachopencadd/talktorials/T005_compound_clustering.html) "
   ]
  },
  {
   "cell_type": "markdown",
   "id": "aff08a0d-6f00-44f6-af69-5278b1b8ebd3",
   "metadata": {},
   "source": [
    "Define a function to calculate distance matrix"
   ]
  },
  {
   "cell_type": "code",
   "execution_count": null,
   "id": "888f5357-0cd4-40a0-9d46-bb406e543a0e",
   "metadata": {},
   "outputs": [],
   "source": [
    "def tanimoto_distance_matrix(fp_list):\n",
    "    \"\"\"Calculate distance matrix for fingerprint list\"\"\"\n",
    "    dissimilarity_matrix = []\n",
    "    # Notice how we are deliberately skipping the first and last items in the list\n",
    "    # because we don't need to compare them against themselves\n",
    "    for i in range(1, len(fp_list)):\n",
    "        # Compare the current fingerprint against all the previous ones in the list\n",
    "        similarities = DataStructs.BulkTanimotoSimilarity(fp_list[i], fp_list[:i])\n",
    "        # Since we need a distance matrix, calculate 1-x for every element in similarity matrix\n",
    "        dissimilarity_matrix.extend([1 - x for x in similarities])\n",
    "    return dissimilarity_matrix"
   ]
  },
  {
   "cell_type": "markdown",
   "id": "c8af95de-8d44-48bb-aab5-3f0b51ddc8a5",
   "metadata": {},
   "source": [
    "Prepare data for clustering"
   ]
  },
  {
   "cell_type": "code",
   "execution_count": null,
   "id": "1200d3d9-f448-4e38-9b02-3633b1bdc65b",
   "metadata": {
    "tags": []
   },
   "outputs": [],
   "source": [
    "# Fingerprints as lists\n",
    "fingerprints=df[\"morgan\"].to_list()\n",
    "# Calculate distance matrix\n",
    "dist_matrix = tanimoto_distance_matrix(fingerprints)\n",
    "# Define distance cut-off\n",
    "cutoff=0.7"
   ]
  },
  {
   "cell_type": "markdown",
   "id": "b320b730-7189-44a1-9535-9ae71e4a4436",
   "metadata": {},
   "source": [
    "Cluster the data with the implemented Butina algorithm"
   ]
  },
  {
   "cell_type": "code",
   "execution_count": null,
   "id": "3366b0c6-7687-4aad-92e7-3e4ae87d02f0",
   "metadata": {
    "tags": []
   },
   "outputs": [],
   "source": [
    "clusters = Butina.ClusterData(dist_matrix, len(fingerprints), cutoff, isDistData=True)"
   ]
  },
  {
   "cell_type": "markdown",
   "id": "0a4cc2d3-36a4-4488-9e9c-7e9cb786f1e8",
   "metadata": {},
   "source": [
    "Sort the clusters by size"
   ]
  },
  {
   "cell_type": "code",
   "execution_count": null,
   "id": "ecd8cda8-195a-4e61-9609-2adaf6194883",
   "metadata": {
    "tags": []
   },
   "outputs": [],
   "source": [
    "clusters = sorted(clusters, key=len, reverse=True)"
   ]
  },
  {
   "cell_type": "code",
   "execution_count": null,
   "id": "28b33f89-8060-4512-aa01-00d3d4bfd451",
   "metadata": {
    "tags": []
   },
   "outputs": [],
   "source": [
    "# Molecules as list\n",
    "mols = df[\"molecule\"].to_list()"
   ]
  },
  {
   "cell_type": "code",
   "execution_count": null,
   "id": "a9440149-a295-4758-821d-064f6ac4a6d7",
   "metadata": {
    "tags": []
   },
   "outputs": [],
   "source": [
    "# Draw molecules\n",
    "Draw.MolsToGridImage(\n",
    "    [mols[i] for i in clusters[0][:10]],\n",
    "    molsPerRow=5,\n",
    ")"
   ]
  },
  {
   "attachments": {},
   "cell_type": "markdown",
   "id": "bf063ec2-370c-4cc4-bc12-305565abab52",
   "metadata": {},
   "source": [
    "## Task 5: Maximum common substructure\n",
    "\n",
    "[*if time allows*]\n",
    "\n",
    "Identify and highlight the maximum common substructure (MCS) within a cluster.\n",
    "\n",
    "Helpful talktorial: [T006-Maximum common substructures](https://projects.volkamerlab.org/teachopencadd/talktorials/T006_compound_maximum_common_substructures.html)"
   ]
  },
  {
   "cell_type": "markdown",
   "id": "d8ae19ea-4196-4101-b645-a00139d13486",
   "metadata": {},
   "source": [
    "* Get moleculesfrom first cluster"
   ]
  },
  {
   "cell_type": "code",
   "execution_count": null,
   "id": "ea22b310-42a2-4ba4-8c34-9afcaaeb3c09",
   "metadata": {
    "tags": []
   },
   "outputs": [],
   "source": [
    "subset = [mols[i] for i in clusters[0][:10]]"
   ]
  },
  {
   "cell_type": "markdown",
   "id": "fd82e4d6-313c-48a4-97d9-4b0a7ab7a485",
   "metadata": {},
   "source": [
    "* Find MCS within subset"
   ]
  },
  {
   "cell_type": "code",
   "execution_count": null,
   "id": "fc4406cb-fe41-4eb4-903e-6aa81f9693d0",
   "metadata": {
    "tags": []
   },
   "outputs": [],
   "source": [
    "mcs = rdFMCS.FindMCS(subset)"
   ]
  },
  {
   "cell_type": "code",
   "execution_count": null,
   "id": "69847798-0ea2-4096-97c9-7eb391d08459",
   "metadata": {
    "tags": []
   },
   "outputs": [],
   "source": [
    "print(\"MCS SMARTS string:\", mcs.smartsString)"
   ]
  },
  {
   "cell_type": "markdown",
   "id": "83a5ef4d-fa2a-449a-98af-9049f02f6cbe",
   "metadata": {},
   "source": [
    "* Draw substructure from Smarts"
   ]
  },
  {
   "cell_type": "code",
   "execution_count": null,
   "id": "5c1d56e6-e98d-4d80-a839-4b3e72dab836",
   "metadata": {
    "tags": []
   },
   "outputs": [],
   "source": [
    "mol_pattern = Chem.MolFromSmarts(mcs.smartsString)\n",
    "Draw.MolToImage(mol_pattern, legend=\"MCS\")"
   ]
  },
  {
   "cell_type": "code",
   "execution_count": null,
   "id": "c0cd1039-ac13-4932-aecd-29eb395ee797",
   "metadata": {},
   "outputs": [],
   "source": []
  }
 ],
 "metadata": {
  "kernelspec": {
   "display_name": "Python 3 (ipykernel)",
   "language": "python",
   "name": "python3"
  },
  "language_info": {
   "codemirror_mode": {
    "name": "ipython",
    "version": 3
   },
   "file_extension": ".py",
   "mimetype": "text/x-python",
   "name": "python",
   "nbconvert_exporter": "python",
   "pygments_lexer": "ipython3",
   "version": "3.10.10"
  },
  "toc-autonumbering": false
 },
 "nbformat": 4,
 "nbformat_minor": 5
}
