{
 "cells": [
  {
   "attachments": {},
   "cell_type": "markdown",
   "metadata": {},
   "source": [
    "# Ligand-based Screening - Solution"
   ]
  },
  {
   "attachments": {},
   "cell_type": "markdown",
   "metadata": {},
   "source": [
    "Your task here is to implement a virtual screening pipeline for unknown compounds using a machine learning approach. "
   ]
  },
  {
   "cell_type": "code",
   "execution_count": 327,
   "metadata": {},
   "outputs": [],
   "source": [
    "# Do not forget to import the needed libraries\n",
    "import pandas as pd\n",
    "from rdkit import Chem\n",
    "from rdkit.Chem import AllChem, Descriptors, Draw, DataStructs\n",
    "from rdkit.Chem.AllChem import GetMorganFingerprintAsBitVect\n",
    "from rdkit.ML.Cluster import Butina\n",
    "\n",
    "from sklearn.model_selection import train_test_split\n",
    "from sklearn.ensemble import RandomForestClassifier\n",
    "from sklearn import metrics\n",
    "from sklearn.metrics import recall_score\n",
    "\n",
    "import matplotlib.pyplot as plt\n"
   ]
  },
  {
   "attachments": {},
   "cell_type": "markdown",
   "metadata": {},
   "source": [
    "### Task 1: Data Preparation\n",
    "To make the ML part easier for you, we have prepared an EGFR dataset for training (`./data/ChEMBL25_activities_EGFR.csv`). Your task is to predict whether a compound is active or not. For the model, you will encode your compounds using fingerprints. Like before, first read in the data into a data frame, then calculate the Morgan fingerprints for all given compounds. "
   ]
  },
  {
   "cell_type": "code",
   "execution_count": 328,
   "metadata": {},
   "outputs": [
    {
     "data": {
      "text/html": [
       "<div>\n",
       "<style scoped>\n",
       "    .dataframe tbody tr th:only-of-type {\n",
       "        vertical-align: middle;\n",
       "    }\n",
       "\n",
       "    .dataframe tbody tr th {\n",
       "        vertical-align: top;\n",
       "    }\n",
       "\n",
       "    .dataframe thead th {\n",
       "        text-align: right;\n",
       "    }\n",
       "</style>\n",
       "<table border=\"1\" class=\"dataframe\">\n",
       "  <thead>\n",
       "    <tr style=\"text-align: right;\">\n",
       "      <th></th>\n",
       "      <th>Unnamed: 0</th>\n",
       "      <th>chembl_id</th>\n",
       "      <th>IC50</th>\n",
       "      <th>units</th>\n",
       "      <th>canonical_smiles</th>\n",
       "      <th>pIC50</th>\n",
       "    </tr>\n",
       "  </thead>\n",
       "  <tbody>\n",
       "    <tr>\n",
       "      <th>0</th>\n",
       "      <td>1777</td>\n",
       "      <td>CHEMBL207869</td>\n",
       "      <td>77.0</td>\n",
       "      <td>nM</td>\n",
       "      <td>Fc1cccc(COc2ccc(Nc3ncncc3C#Cc4ncccn4)cc2Cl)c1</td>\n",
       "      <td>7.113509</td>\n",
       "    </tr>\n",
       "    <tr>\n",
       "      <th>1</th>\n",
       "      <td>5785</td>\n",
       "      <td>CHEMBL3940060</td>\n",
       "      <td>330.0</td>\n",
       "      <td>nM</td>\n",
       "      <td>Fc1ccc(Nc2ncnc3cc4OC(=O)N(CCOC(=O)CCl)c4cc23)c...</td>\n",
       "      <td>6.481486</td>\n",
       "    </tr>\n",
       "    <tr>\n",
       "      <th>2</th>\n",
       "      <td>6373</td>\n",
       "      <td>CHEMBL3678951</td>\n",
       "      <td>1.0</td>\n",
       "      <td>nM</td>\n",
       "      <td>CC(C)n1c(Nc2cccc(c2)C(F)(F)F)nc3cnc(Nc4ccc(cc4...</td>\n",
       "      <td>9.000000</td>\n",
       "    </tr>\n",
       "    <tr>\n",
       "      <th>3</th>\n",
       "      <td>2442</td>\n",
       "      <td>CHEMBL504034</td>\n",
       "      <td>40.0</td>\n",
       "      <td>nM</td>\n",
       "      <td>CS(=O)(=O)CCNC(=O)O[C@H]1CN[C@@H](C1)C#Cc2cc3n...</td>\n",
       "      <td>7.397940</td>\n",
       "    </tr>\n",
       "    <tr>\n",
       "      <th>4</th>\n",
       "      <td>1084</td>\n",
       "      <td>CHEMBL158797</td>\n",
       "      <td>43000.0</td>\n",
       "      <td>nM</td>\n",
       "      <td>Cn1c(SSc2c(C(=O)NCC(O)CO)c3ccccc3n2C)c(C(=O)NC...</td>\n",
       "      <td>4.366532</td>\n",
       "    </tr>\n",
       "  </tbody>\n",
       "</table>\n",
       "</div>"
      ],
      "text/plain": [
       "   Unnamed: 0      chembl_id     IC50 units   \n",
       "0        1777   CHEMBL207869     77.0    nM  \\\n",
       "1        5785  CHEMBL3940060    330.0    nM   \n",
       "2        6373  CHEMBL3678951      1.0    nM   \n",
       "3        2442   CHEMBL504034     40.0    nM   \n",
       "4        1084   CHEMBL158797  43000.0    nM   \n",
       "\n",
       "                                    canonical_smiles     pIC50  \n",
       "0      Fc1cccc(COc2ccc(Nc3ncncc3C#Cc4ncccn4)cc2Cl)c1  7.113509  \n",
       "1  Fc1ccc(Nc2ncnc3cc4OC(=O)N(CCOC(=O)CCl)c4cc23)c...  6.481486  \n",
       "2  CC(C)n1c(Nc2cccc(c2)C(F)(F)F)nc3cnc(Nc4ccc(cc4...  9.000000  \n",
       "3  CS(=O)(=O)CCNC(=O)O[C@H]1CN[C@@H](C1)C#Cc2cc3n...  7.397940  \n",
       "4  Cn1c(SSc2c(C(=O)NCC(O)CO)c3ccccc3n2C)c(C(=O)NC...  4.366532  "
      ]
     },
     "execution_count": 328,
     "metadata": {},
     "output_type": "execute_result"
    }
   ],
   "source": [
    "# read in file \n",
    "df=pd.read_csv('./data/ChEMBL25_activities_EGFR.csv')\n",
    "df.head()"
   ]
  },
  {
   "cell_type": "code",
   "execution_count": 329,
   "metadata": {},
   "outputs": [],
   "source": [
    "# morgan fingerprint \n",
    "mols = []\n",
    "for entry in df['canonical_smiles']:\n",
    "    mols.append(Chem.MolFromSmiles(entry))\n",
    "\n",
    "fps = []\n",
    "for mol in mols:\n",
    "    fps.append(GetMorganFingerprintAsBitVect(mol,2))\n",
    "\n",
    "df['molecule'] = mols\n",
    "df['morgan'] = fps\n",
    "\n",
    "\n"
   ]
  },
  {
   "attachments": {},
   "cell_type": "markdown",
   "metadata": {},
   "source": [
    "Now, add a column in your data frame indicating whether a compound is active or not. Set the values 1, 0 for active, inactive compounds respectively using activity cutoff to pIC50 = 6.3."
   ]
  },
  {
   "cell_type": "code",
   "execution_count": 330,
   "metadata": {},
   "outputs": [
    {
     "data": {
      "text/html": [
       "<div>\n",
       "<style scoped>\n",
       "    .dataframe tbody tr th:only-of-type {\n",
       "        vertical-align: middle;\n",
       "    }\n",
       "\n",
       "    .dataframe tbody tr th {\n",
       "        vertical-align: top;\n",
       "    }\n",
       "\n",
       "    .dataframe thead th {\n",
       "        text-align: right;\n",
       "    }\n",
       "</style>\n",
       "<table border=\"1\" class=\"dataframe\">\n",
       "  <thead>\n",
       "    <tr style=\"text-align: right;\">\n",
       "      <th></th>\n",
       "      <th>chembl_id</th>\n",
       "      <th>canonical_smiles</th>\n",
       "      <th>pIC50</th>\n",
       "      <th>molecule</th>\n",
       "      <th>morgan</th>\n",
       "      <th>active</th>\n",
       "    </tr>\n",
       "  </thead>\n",
       "  <tbody>\n",
       "    <tr>\n",
       "      <th>0</th>\n",
       "      <td>CHEMBL207869</td>\n",
       "      <td>Fc1cccc(COc2ccc(Nc3ncncc3C#Cc4ncccn4)cc2Cl)c1</td>\n",
       "      <td>7.113509</td>\n",
       "      <td>&lt;rdkit.Chem.rdchem.Mol object at 0x18e072b00&gt;</td>\n",
       "      <td>[0, 0, 0, 0, 0, 0, 0, 0, 0, 0, 0, 0, 0, 0, 0, ...</td>\n",
       "      <td>1</td>\n",
       "    </tr>\n",
       "    <tr>\n",
       "      <th>1</th>\n",
       "      <td>CHEMBL3940060</td>\n",
       "      <td>Fc1ccc(Nc2ncnc3cc4OC(=O)N(CCOC(=O)CCl)c4cc23)c...</td>\n",
       "      <td>6.481486</td>\n",
       "      <td>&lt;rdkit.Chem.rdchem.Mol object at 0x18db68e20&gt;</td>\n",
       "      <td>[0, 0, 0, 0, 0, 0, 0, 0, 0, 0, 0, 0, 0, 1, 0, ...</td>\n",
       "      <td>1</td>\n",
       "    </tr>\n",
       "    <tr>\n",
       "      <th>2</th>\n",
       "      <td>CHEMBL3678951</td>\n",
       "      <td>CC(C)n1c(Nc2cccc(c2)C(F)(F)F)nc3cnc(Nc4ccc(cc4...</td>\n",
       "      <td>9.000000</td>\n",
       "      <td>&lt;rdkit.Chem.rdchem.Mol object at 0x18db692a0&gt;</td>\n",
       "      <td>[0, 1, 0, 0, 0, 0, 0, 0, 0, 0, 0, 0, 0, 0, 1, ...</td>\n",
       "      <td>1</td>\n",
       "    </tr>\n",
       "    <tr>\n",
       "      <th>3</th>\n",
       "      <td>CHEMBL504034</td>\n",
       "      <td>CS(=O)(=O)CCNC(=O)O[C@H]1CN[C@@H](C1)C#Cc2cc3n...</td>\n",
       "      <td>7.397940</td>\n",
       "      <td>&lt;rdkit.Chem.rdchem.Mol object at 0x18db6b9a0&gt;</td>\n",
       "      <td>[0, 0, 0, 0, 0, 0, 0, 0, 0, 0, 0, 0, 0, 0, 0, ...</td>\n",
       "      <td>1</td>\n",
       "    </tr>\n",
       "    <tr>\n",
       "      <th>4</th>\n",
       "      <td>CHEMBL158797</td>\n",
       "      <td>Cn1c(SSc2c(C(=O)NCC(O)CO)c3ccccc3n2C)c(C(=O)NC...</td>\n",
       "      <td>4.366532</td>\n",
       "      <td>&lt;rdkit.Chem.rdchem.Mol object at 0x18d1694e0&gt;</td>\n",
       "      <td>[0, 1, 0, 0, 0, 0, 0, 0, 0, 0, 0, 0, 0, 0, 0, ...</td>\n",
       "      <td>0</td>\n",
       "    </tr>\n",
       "  </tbody>\n",
       "</table>\n",
       "</div>"
      ],
      "text/plain": [
       "       chembl_id                                   canonical_smiles     pIC50   \n",
       "0   CHEMBL207869      Fc1cccc(COc2ccc(Nc3ncncc3C#Cc4ncccn4)cc2Cl)c1  7.113509  \\\n",
       "1  CHEMBL3940060  Fc1ccc(Nc2ncnc3cc4OC(=O)N(CCOC(=O)CCl)c4cc23)c...  6.481486   \n",
       "2  CHEMBL3678951  CC(C)n1c(Nc2cccc(c2)C(F)(F)F)nc3cnc(Nc4ccc(cc4...  9.000000   \n",
       "3   CHEMBL504034  CS(=O)(=O)CCNC(=O)O[C@H]1CN[C@@H](C1)C#Cc2cc3n...  7.397940   \n",
       "4   CHEMBL158797  Cn1c(SSc2c(C(=O)NCC(O)CO)c3ccccc3n2C)c(C(=O)NC...  4.366532   \n",
       "\n",
       "                                        molecule   \n",
       "0  <rdkit.Chem.rdchem.Mol object at 0x18e072b00>  \\\n",
       "1  <rdkit.Chem.rdchem.Mol object at 0x18db68e20>   \n",
       "2  <rdkit.Chem.rdchem.Mol object at 0x18db692a0>   \n",
       "3  <rdkit.Chem.rdchem.Mol object at 0x18db6b9a0>   \n",
       "4  <rdkit.Chem.rdchem.Mol object at 0x18d1694e0>   \n",
       "\n",
       "                                              morgan  active  \n",
       "0  [0, 0, 0, 0, 0, 0, 0, 0, 0, 0, 0, 0, 0, 0, 0, ...       1  \n",
       "1  [0, 0, 0, 0, 0, 0, 0, 0, 0, 0, 0, 0, 0, 1, 0, ...       1  \n",
       "2  [0, 1, 0, 0, 0, 0, 0, 0, 0, 0, 0, 0, 0, 0, 1, ...       1  \n",
       "3  [0, 0, 0, 0, 0, 0, 0, 0, 0, 0, 0, 0, 0, 0, 0, ...       1  \n",
       "4  [0, 1, 0, 0, 0, 0, 0, 0, 0, 0, 0, 0, 0, 0, 0, ...       0  "
      ]
     },
     "execution_count": 330,
     "metadata": {},
     "output_type": "execute_result"
    }
   ],
   "source": [
    "# compound activity\n",
    "df['active'] = df['pIC50'].map(lambda x:x>6.3).astype(int)\n",
    "\n",
    "# remove unnecessary columns from dataframe \n",
    "df.drop(['IC50','units','Unnamed: 0'], axis=1, inplace=True)\n",
    "df.head()"
   ]
  },
  {
   "attachments": {},
   "cell_type": "markdown",
   "metadata": {},
   "source": [
    "### Task 2: Machine Learning \n",
    "\n",
    "Train a Random Forest model using the data prepared above. Set the random state to 0 for reproducible results. Split your data into 80% training and 20% test data and set the seed to 1234 for reproducible results. "
   ]
  },
  {
   "cell_type": "code",
   "execution_count": 331,
   "metadata": {},
   "outputs": [],
   "source": [
    "# random forest model \n",
    "\n",
    "def build_random_forest_model(X_train, X_test, y_train, y_test, nb_tree=100, nb_dec=3):\n",
    "    \"\"\"\n",
    "    Trains a Random Forest model with ``nb_tree`` trees using X_train and y_train and predict using X_test. \n",
    "    \n",
    "    Parameters\n",
    "    ----------\n",
    "    X_train: array_like\n",
    "        Input data to train the model\n",
    "    X_test: array_like\n",
    "        Input data to test the model  \n",
    "    y_train: array\n",
    "        Output value in the train set\n",
    "    y_test: array\n",
    "        Output value in the test set\n",
    "    nb_tree: int\n",
    "        number of trees to build for the forest\n",
    "    nb_dec: int\n",
    "        number of decimals to considers for the metrics\n",
    "    \n",
    "    Returns\n",
    "    -------\n",
    "    dict:\n",
    "        ``\"Probability\"``\n",
    "            probability of belonging to class 1 and class 0 in (`array`) type.\n",
    "        ``'Accuracy'``\n",
    "            accuracy of the model (`float`).\n",
    "        ``'AUC'`` AUC of the model (`float`).\n",
    "        ``'Sensitivity'`` Sensitivity of the model (`float`).\n",
    "        ``'Specificity'`` Specificity of the model (`float`).\n",
    "    \"\"\"\n",
    "    \n",
    "    # Initialize Random Forest with nb_tree of trees\n",
    "    forest = RandomForestClassifier(n_estimators=nb_tree)\n",
    "    \n",
    "    # Train the model\n",
    "    forest.fit(X_train, y_train)\n",
    "    \n",
    "    # Obtain probability of belonging to class 0 and 1\n",
    "    y_prob = forest.predict_proba(X_test)\n",
    "    \n",
    "    # Predict the output class of the test set\n",
    "    y_pred = forest.predict(X_test)\n",
    "    \n",
    "    # Compute metrics\n",
    "    accuracy = metrics.accuracy_score(y_test, y_pred).round(nb_dec)\n",
    "    auc = metrics.roc_auc_score(y_test, y_prob[:,1]).round(nb_dec)\n",
    "    sensitivity = metrics.recall_score(y_test, y_pred, pos_label=1).round(nb_dec)\n",
    "    specificity = metrics.recall_score(y_test, y_pred, pos_label=0).round(nb_dec)\n",
    "    \n",
    "    return {'Probability': y_prob,\n",
    "           'Accuracy': accuracy,\n",
    "           'AUC': auc,\n",
    "           'Sensitivity': sensitivity,\n",
    "           'Specificity': specificity, \n",
    "           'forest': forest}"
   ]
  },
  {
   "cell_type": "code",
   "execution_count": 332,
   "metadata": {},
   "outputs": [],
   "source": [
    "# Split data into training set (80%) and test set (20%), shuffling the data and setting the seed\n",
    "output = df['active'].tolist()\n",
    "x_morgan_train, x_morgan_test, y_morgan_train, y_morgan_test = train_test_split(fps, output,\n",
    "                                                                                test_size=0.2,\n",
    "                                                                                shuffle=True,\n",
    "                                                                                random_state=42)"
   ]
  },
  {
   "attachments": {},
   "cell_type": "markdown",
   "metadata": {},
   "source": [
    "To evaluate your model, calculate the accuracy, AUC, sensitivity, and specificity values (for sensitivity and specificity search for the sklearn function recall_score)."
   ]
  },
  {
   "cell_type": "code",
   "execution_count": 333,
   "metadata": {},
   "outputs": [
    {
     "data": {
      "text/plain": [
       "{'Probability': array([[0.95, 0.05],\n",
       "        [0.88, 0.12],\n",
       "        [0.14, 0.86],\n",
       "        ...,\n",
       "        [1.  , 0.  ],\n",
       "        [0.96, 0.04],\n",
       "        [0.07, 0.93]]),\n",
       " 'Accuracy': 0.84,\n",
       " 'AUC': 0.911,\n",
       " 'Sensitivity': 0.903,\n",
       " 'Specificity': 0.75,\n",
       " 'forest': RandomForestClassifier()}"
      ]
     },
     "execution_count": 333,
     "metadata": {},
     "output_type": "execute_result"
    }
   ],
   "source": [
    "# model evaluation\n",
    "result_morgan = build_random_forest_model(x_morgan_train, x_morgan_test, y_morgan_train, y_morgan_test)\n",
    "forest = result_morgan['forest']\n",
    "result_morgan"
   ]
  },
  {
   "attachments": {},
   "cell_type": "markdown",
   "metadata": {},
   "source": [
    "### Task 3: Compound Filtering \n",
    "\n",
    "Filter the compounds in \"data/test_compounds_EGFR.csv\" down to 20 compounds. For this, you can combine I) classical similarity searches/substructure searches II) predictions via a machine learning approach, III) filtering criteria based on molecular properties (Lipinski's rule of five) IV) and/or clustering. Note that you will predict the binding affinity and binding mode of your selected subset via docking for further filtering. It might be wise to have a selected set of diverse compounds, e.g. obtained using different selection criteria.\n",
    "\n",
    "\n",
    "* Read in the data containing the unknown compounds. Start your filtering with an activity prediction using the trained random forest model. If you have time, feel free to try out different models (e.g. what you have seen in previous sessions) and choose your favorite one for the filtering. \n"
   ]
  },
  {
   "cell_type": "code",
   "execution_count": 334,
   "metadata": {},
   "outputs": [
    {
     "data": {
      "text/html": [
       "<div>\n",
       "<style scoped>\n",
       "    .dataframe tbody tr th:only-of-type {\n",
       "        vertical-align: middle;\n",
       "    }\n",
       "\n",
       "    .dataframe tbody tr th {\n",
       "        vertical-align: top;\n",
       "    }\n",
       "\n",
       "    .dataframe thead th {\n",
       "        text-align: right;\n",
       "    }\n",
       "</style>\n",
       "<table border=\"1\" class=\"dataframe\">\n",
       "  <thead>\n",
       "    <tr style=\"text-align: right;\">\n",
       "      <th></th>\n",
       "      <th>Unnamed: 0</th>\n",
       "      <th>chembl_id</th>\n",
       "      <th>canonical_smiles</th>\n",
       "    </tr>\n",
       "  </thead>\n",
       "  <tbody>\n",
       "    <tr>\n",
       "      <th>0</th>\n",
       "      <td>1927</td>\n",
       "      <td>CHEMBL101253</td>\n",
       "      <td>Clc1ccc(Nc2nnc(Cc3ccncc3)c4ccccc24)cc1</td>\n",
       "    </tr>\n",
       "    <tr>\n",
       "      <th>1</th>\n",
       "      <td>212</td>\n",
       "      <td>CHEMBL107472</td>\n",
       "      <td>CNc1ncc2C=C(C(=O)N(C)c2n1)c3c(Cl)cccc3Cl</td>\n",
       "    </tr>\n",
       "    <tr>\n",
       "      <th>2</th>\n",
       "      <td>3089</td>\n",
       "      <td>CHEMBL1077068</td>\n",
       "      <td>CC1=C(C(NC(=N1)Nc2ccc(cc2)S(=O)(=O)Nc3ncccn3)c...</td>\n",
       "    </tr>\n",
       "    <tr>\n",
       "      <th>3</th>\n",
       "      <td>3126</td>\n",
       "      <td>CHEMBL1088240</td>\n",
       "      <td>COc1cc(Nc2c(cnc3cc(\\C=C\\CCN4CCN(C)CC4)c(OC)cc2...</td>\n",
       "    </tr>\n",
       "    <tr>\n",
       "      <th>4</th>\n",
       "      <td>3125</td>\n",
       "      <td>CHEMBL1092382</td>\n",
       "      <td>CCC(=O)Nc1ccc2nccc(Nc3cccc(Br)c3)c2c1</td>\n",
       "    </tr>\n",
       "  </tbody>\n",
       "</table>\n",
       "</div>"
      ],
      "text/plain": [
       "   Unnamed: 0      chembl_id   \n",
       "0        1927   CHEMBL101253  \\\n",
       "1         212   CHEMBL107472   \n",
       "2        3089  CHEMBL1077068   \n",
       "3        3126  CHEMBL1088240   \n",
       "4        3125  CHEMBL1092382   \n",
       "\n",
       "                                    canonical_smiles  \n",
       "0             Clc1ccc(Nc2nnc(Cc3ccncc3)c4ccccc24)cc1  \n",
       "1           CNc1ncc2C=C(C(=O)N(C)c2n1)c3c(Cl)cccc3Cl  \n",
       "2  CC1=C(C(NC(=N1)Nc2ccc(cc2)S(=O)(=O)Nc3ncccn3)c...  \n",
       "3  COc1cc(Nc2c(cnc3cc(\\C=C\\CCN4CCN(C)CC4)c(OC)cc2...  \n",
       "4              CCC(=O)Nc1ccc2nccc(Nc3cccc(Br)c3)c2c1  "
      ]
     },
     "execution_count": 334,
     "metadata": {},
     "output_type": "execute_result"
    }
   ],
   "source": [
    "# read in unknown compounds \n",
    "data_test = pd.read_csv(\"./data/test_compounds_EGFR.csv\")\n",
    "data_test.head()"
   ]
  },
  {
   "cell_type": "code",
   "execution_count": 335,
   "metadata": {},
   "outputs": [],
   "source": [
    "# Convert smiles in data_test to morgan fingerprints\n",
    "smiles_test = data_test[\"canonical_smiles\"].tolist()\n",
    "morgan_fp_test = []\n",
    "test_mols = []\n",
    "\n",
    "for smiles in smiles_test:\n",
    "    mol = Chem.MolFromSmiles(smiles)\n",
    "    test_mols.append(mol)\n",
    "    morgan_fp_test.append(GetMorganFingerprintAsBitVect(mol,2))\n",
    "\n",
    "data_test[\"morgan\"] = morgan_fp_test\n",
    "data_test[\"molecule\"] = test_mols\n",
    "data_test.drop(['Unnamed: 0'], axis=1, inplace=True)\n"
   ]
  },
  {
   "cell_type": "code",
   "execution_count": 336,
   "metadata": {},
   "outputs": [
    {
     "data": {
      "text/html": [
       "<div>\n",
       "<style scoped>\n",
       "    .dataframe tbody tr th:only-of-type {\n",
       "        vertical-align: middle;\n",
       "    }\n",
       "\n",
       "    .dataframe tbody tr th {\n",
       "        vertical-align: top;\n",
       "    }\n",
       "\n",
       "    .dataframe thead th {\n",
       "        text-align: right;\n",
       "    }\n",
       "</style>\n",
       "<table border=\"1\" class=\"dataframe\">\n",
       "  <thead>\n",
       "    <tr style=\"text-align: right;\">\n",
       "      <th></th>\n",
       "      <th>chembl_id</th>\n",
       "      <th>canonical_smiles</th>\n",
       "      <th>morgan</th>\n",
       "      <th>molecule</th>\n",
       "    </tr>\n",
       "  </thead>\n",
       "  <tbody>\n",
       "    <tr>\n",
       "      <th>0</th>\n",
       "      <td>CHEMBL101253</td>\n",
       "      <td>Clc1ccc(Nc2nnc(Cc3ccncc3)c4ccccc24)cc1</td>\n",
       "      <td>[0, 0, 0, 0, 0, 0, 0, 0, 0, 0, 0, 0, 0, 0, 0, ...</td>\n",
       "      <td>&lt;rdkit.Chem.rdchem.Mol object at 0x18e0222c0&gt;</td>\n",
       "    </tr>\n",
       "    <tr>\n",
       "      <th>1</th>\n",
       "      <td>CHEMBL107472</td>\n",
       "      <td>CNc1ncc2C=C(C(=O)N(C)c2n1)c3c(Cl)cccc3Cl</td>\n",
       "      <td>[0, 0, 0, 0, 0, 0, 0, 0, 0, 0, 0, 0, 0, 0, 0, ...</td>\n",
       "      <td>&lt;rdkit.Chem.rdchem.Mol object at 0x18da63580&gt;</td>\n",
       "    </tr>\n",
       "    <tr>\n",
       "      <th>2</th>\n",
       "      <td>CHEMBL1077068</td>\n",
       "      <td>CC1=C(C(NC(=N1)Nc2ccc(cc2)S(=O)(=O)Nc3ncccn3)c...</td>\n",
       "      <td>[0, 0, 0, 0, 1, 0, 0, 0, 0, 0, 0, 0, 0, 0, 0, ...</td>\n",
       "      <td>&lt;rdkit.Chem.rdchem.Mol object at 0x18da63ee0&gt;</td>\n",
       "    </tr>\n",
       "    <tr>\n",
       "      <th>3</th>\n",
       "      <td>CHEMBL1088240</td>\n",
       "      <td>COc1cc(Nc2c(cnc3cc(\\C=C\\CCN4CCN(C)CC4)c(OC)cc2...</td>\n",
       "      <td>[0, 0, 0, 0, 0, 0, 0, 0, 0, 0, 0, 0, 0, 0, 1, ...</td>\n",
       "      <td>&lt;rdkit.Chem.rdchem.Mol object at 0x18d752020&gt;</td>\n",
       "    </tr>\n",
       "    <tr>\n",
       "      <th>4</th>\n",
       "      <td>CHEMBL1092382</td>\n",
       "      <td>CCC(=O)Nc1ccc2nccc(Nc3cccc(Br)c3)c2c1</td>\n",
       "      <td>[0, 0, 0, 0, 0, 0, 0, 0, 0, 0, 0, 0, 0, 0, 0, ...</td>\n",
       "      <td>&lt;rdkit.Chem.rdchem.Mol object at 0x18d752260&gt;</td>\n",
       "    </tr>\n",
       "  </tbody>\n",
       "</table>\n",
       "</div>"
      ],
      "text/plain": [
       "       chembl_id                                   canonical_smiles   \n",
       "0   CHEMBL101253             Clc1ccc(Nc2nnc(Cc3ccncc3)c4ccccc24)cc1  \\\n",
       "1   CHEMBL107472           CNc1ncc2C=C(C(=O)N(C)c2n1)c3c(Cl)cccc3Cl   \n",
       "2  CHEMBL1077068  CC1=C(C(NC(=N1)Nc2ccc(cc2)S(=O)(=O)Nc3ncccn3)c...   \n",
       "3  CHEMBL1088240  COc1cc(Nc2c(cnc3cc(\\C=C\\CCN4CCN(C)CC4)c(OC)cc2...   \n",
       "4  CHEMBL1092382              CCC(=O)Nc1ccc2nccc(Nc3cccc(Br)c3)c2c1   \n",
       "\n",
       "                                              morgan   \n",
       "0  [0, 0, 0, 0, 0, 0, 0, 0, 0, 0, 0, 0, 0, 0, 0, ...  \\\n",
       "1  [0, 0, 0, 0, 0, 0, 0, 0, 0, 0, 0, 0, 0, 0, 0, ...   \n",
       "2  [0, 0, 0, 0, 1, 0, 0, 0, 0, 0, 0, 0, 0, 0, 0, ...   \n",
       "3  [0, 0, 0, 0, 0, 0, 0, 0, 0, 0, 0, 0, 0, 0, 1, ...   \n",
       "4  [0, 0, 0, 0, 0, 0, 0, 0, 0, 0, 0, 0, 0, 0, 0, ...   \n",
       "\n",
       "                                        molecule  \n",
       "0  <rdkit.Chem.rdchem.Mol object at 0x18e0222c0>  \n",
       "1  <rdkit.Chem.rdchem.Mol object at 0x18da63580>  \n",
       "2  <rdkit.Chem.rdchem.Mol object at 0x18da63ee0>  \n",
       "3  <rdkit.Chem.rdchem.Mol object at 0x18d752020>  \n",
       "4  <rdkit.Chem.rdchem.Mol object at 0x18d752260>  "
      ]
     },
     "execution_count": 336,
     "metadata": {},
     "output_type": "execute_result"
    }
   ],
   "source": [
    "data_test.head()"
   ]
  },
  {
   "cell_type": "code",
   "execution_count": 338,
   "metadata": {},
   "outputs": [],
   "source": [
    "# Predict the output class of the test set: active/inactive and add to dataframe \n",
    "y_pred = forest.predict(morgan_fp_test)\n",
    "data_test['active/inactive'] = y_pred\n",
    "\n",
    "# Obtain probability of belonging to a class active/inactive for the test set and add to dataframe\n",
    "y_prob = forest.predict_proba(morgan_fp_test)\n",
    "data_test['0 prob'] = y_prob[:,0]\n",
    "data_test['1 prob'] = y_prob[:,1]"
   ]
  },
  {
   "cell_type": "code",
   "execution_count": 339,
   "metadata": {},
   "outputs": [
    {
     "name": "stdout",
     "output_type": "stream",
     "text": [
      "Number of compounds predicted active: 659.\n"
     ]
    }
   ],
   "source": [
    "nb_active = (data_test['active/inactive'] == 1).sum()\n",
    "print(f'Number of compounds predicted active: {nb_active}.')\n"
   ]
  },
  {
   "cell_type": "code",
   "execution_count": 340,
   "metadata": {},
   "outputs": [
    {
     "data": {
      "text/html": [
       "<div>\n",
       "<style scoped>\n",
       "    .dataframe tbody tr th:only-of-type {\n",
       "        vertical-align: middle;\n",
       "    }\n",
       "\n",
       "    .dataframe tbody tr th {\n",
       "        vertical-align: top;\n",
       "    }\n",
       "\n",
       "    .dataframe thead th {\n",
       "        text-align: right;\n",
       "    }\n",
       "</style>\n",
       "<table border=\"1\" class=\"dataframe\">\n",
       "  <thead>\n",
       "    <tr style=\"text-align: right;\">\n",
       "      <th></th>\n",
       "      <th>chembl_id</th>\n",
       "      <th>canonical_smiles</th>\n",
       "      <th>morgan</th>\n",
       "      <th>molecule</th>\n",
       "      <th>active/inactive</th>\n",
       "      <th>0 prob</th>\n",
       "      <th>1 prob</th>\n",
       "    </tr>\n",
       "  </thead>\n",
       "  <tbody>\n",
       "    <tr>\n",
       "      <th>3</th>\n",
       "      <td>CHEMBL1088240</td>\n",
       "      <td>COc1cc(Nc2c(cnc3cc(\\C=C\\CCN4CCN(C)CC4)c(OC)cc2...</td>\n",
       "      <td>[0, 0, 0, 0, 0, 0, 0, 0, 0, 0, 0, 0, 0, 0, 1, ...</td>\n",
       "      <td>&lt;rdkit.Chem.rdchem.Mol object at 0x18d752020&gt;</td>\n",
       "      <td>1</td>\n",
       "      <td>0.290</td>\n",
       "      <td>0.710</td>\n",
       "    </tr>\n",
       "    <tr>\n",
       "      <th>4</th>\n",
       "      <td>CHEMBL1092382</td>\n",
       "      <td>CCC(=O)Nc1ccc2nccc(Nc3cccc(Br)c3)c2c1</td>\n",
       "      <td>[0, 0, 0, 0, 0, 0, 0, 0, 0, 0, 0, 0, 0, 0, 0, ...</td>\n",
       "      <td>&lt;rdkit.Chem.rdchem.Mol object at 0x18d752260&gt;</td>\n",
       "      <td>1</td>\n",
       "      <td>0.285</td>\n",
       "      <td>0.715</td>\n",
       "    </tr>\n",
       "    <tr>\n",
       "      <th>12</th>\n",
       "      <td>CHEMBL1097368</td>\n",
       "      <td>C(Cc1cc2c(Nc3ccc4[nH]ccc4c3)ncnc2[nH]1)c5ccccc5</td>\n",
       "      <td>[0, 0, 0, 0, 0, 0, 0, 0, 0, 0, 0, 0, 0, 0, 0, ...</td>\n",
       "      <td>&lt;rdkit.Chem.rdchem.Mol object at 0x18d7529e0&gt;</td>\n",
       "      <td>1</td>\n",
       "      <td>0.320</td>\n",
       "      <td>0.680</td>\n",
       "    </tr>\n",
       "    <tr>\n",
       "      <th>14</th>\n",
       "      <td>CHEMBL113023</td>\n",
       "      <td>COc1ccc(Nc2ncc3C=C(C(=O)N(C)c3n2)c4c(Cl)cccc4C...</td>\n",
       "      <td>[0, 0, 0, 0, 0, 0, 0, 0, 0, 0, 0, 0, 0, 0, 0, ...</td>\n",
       "      <td>&lt;rdkit.Chem.rdchem.Mol object at 0x18d752b60&gt;</td>\n",
       "      <td>1</td>\n",
       "      <td>0.330</td>\n",
       "      <td>0.670</td>\n",
       "    </tr>\n",
       "    <tr>\n",
       "      <th>15</th>\n",
       "      <td>CHEMBL113070</td>\n",
       "      <td>CN1C(=O)C(=Cc2cnc(Nc3ccc(CCCC(=O)O)cc3)nc12)c4...</td>\n",
       "      <td>[0, 0, 0, 0, 0, 0, 0, 0, 0, 0, 0, 0, 0, 0, 0, ...</td>\n",
       "      <td>&lt;rdkit.Chem.rdchem.Mol object at 0x18d752c20&gt;</td>\n",
       "      <td>1</td>\n",
       "      <td>0.240</td>\n",
       "      <td>0.760</td>\n",
       "    </tr>\n",
       "  </tbody>\n",
       "</table>\n",
       "</div>"
      ],
      "text/plain": [
       "        chembl_id                                   canonical_smiles   \n",
       "3   CHEMBL1088240  COc1cc(Nc2c(cnc3cc(\\C=C\\CCN4CCN(C)CC4)c(OC)cc2...  \\\n",
       "4   CHEMBL1092382              CCC(=O)Nc1ccc2nccc(Nc3cccc(Br)c3)c2c1   \n",
       "12  CHEMBL1097368    C(Cc1cc2c(Nc3ccc4[nH]ccc4c3)ncnc2[nH]1)c5ccccc5   \n",
       "14   CHEMBL113023  COc1ccc(Nc2ncc3C=C(C(=O)N(C)c3n2)c4c(Cl)cccc4C...   \n",
       "15   CHEMBL113070  CN1C(=O)C(=Cc2cnc(Nc3ccc(CCCC(=O)O)cc3)nc12)c4...   \n",
       "\n",
       "                                               morgan   \n",
       "3   [0, 0, 0, 0, 0, 0, 0, 0, 0, 0, 0, 0, 0, 0, 1, ...  \\\n",
       "4   [0, 0, 0, 0, 0, 0, 0, 0, 0, 0, 0, 0, 0, 0, 0, ...   \n",
       "12  [0, 0, 0, 0, 0, 0, 0, 0, 0, 0, 0, 0, 0, 0, 0, ...   \n",
       "14  [0, 0, 0, 0, 0, 0, 0, 0, 0, 0, 0, 0, 0, 0, 0, ...   \n",
       "15  [0, 0, 0, 0, 0, 0, 0, 0, 0, 0, 0, 0, 0, 0, 0, ...   \n",
       "\n",
       "                                         molecule  active/inactive  0 prob   \n",
       "3   <rdkit.Chem.rdchem.Mol object at 0x18d752020>                1   0.290  \\\n",
       "4   <rdkit.Chem.rdchem.Mol object at 0x18d752260>                1   0.285   \n",
       "12  <rdkit.Chem.rdchem.Mol object at 0x18d7529e0>                1   0.320   \n",
       "14  <rdkit.Chem.rdchem.Mol object at 0x18d752b60>                1   0.330   \n",
       "15  <rdkit.Chem.rdchem.Mol object at 0x18d752c20>                1   0.240   \n",
       "\n",
       "    1 prob  \n",
       "3    0.710  \n",
       "4    0.715  \n",
       "12   0.680  \n",
       "14   0.670  \n",
       "15   0.760  "
      ]
     },
     "execution_count": 340,
     "metadata": {},
     "output_type": "execute_result"
    }
   ],
   "source": [
    "# create new dataframe containing only compounds predicted to be active \n",
    "active_df = data_test[data_test['active/inactive'] == 1]\n",
    "active_df.head()"
   ]
  },
  {
   "attachments": {},
   "cell_type": "markdown",
   "metadata": {},
   "source": [
    "As a first filtering we have chosen to apply Lipinski's rule of five. We filter out all compounds violating more than one of the Lipinski rules. "
   ]
  },
  {
   "cell_type": "code",
   "execution_count": 341,
   "metadata": {},
   "outputs": [],
   "source": [
    "\n",
    "def test_rule_of_five(smi):\n",
    "    \"\"\"\n",
    "    Checks if molecule fulfills the Lipinski's rule of five. Calculates the molecular descriptors and checks for all rules. \n",
    "    We allow one mismatch in the rules. \n",
    "    \n",
    "    Parameters\n",
    "    ----------\n",
    "    smi: string\n",
    "        smiles string of compound \n",
    "    \n",
    "    Returns\n",
    "    -------\n",
    "    bool: indicating True if Lipinski's rule of five holds. \n",
    "    \"\"\"\n",
    "\n",
    "    m = Chem.MolFromSmiles(smi)\n",
    "    \n",
    "    # Calculate rule of five chemical properties\n",
    "    MW = Descriptors.ExactMolWt(m)\n",
    "    HBA = Descriptors.NumHAcceptors(m)\n",
    "    HBD = Descriptors.NumHDonors(m)\n",
    "    LogP = Descriptors.MolLogP(m)\n",
    "    \n",
    "    # Rule of five conditions\n",
    "    conditions = [MW <= 500, HBA <= 10, HBD <= 5, LogP <= 5]\n",
    "    # Return True if no more than one out of four conditions is violated\n",
    "    return conditions.count(True) >= 3\n"
   ]
  },
  {
   "cell_type": "code",
   "execution_count": 342,
   "metadata": {},
   "outputs": [
    {
     "data": {
      "text/plain": [
       "(530, 8)"
      ]
     },
     "execution_count": 342,
     "metadata": {},
     "output_type": "execute_result"
    }
   ],
   "source": [
    "# filter lipinski, save filtered compounds to dataframe \n",
    "filtered_df = active_df.copy(deep=True)\n",
    "filtered_df['lipinski'] = active_df['canonical_smiles'].apply(test_rule_of_five).copy(deep=True)\n",
    "filtered_df = filtered_df[filtered_df['lipinski']]\n",
    "filtered_df.shape"
   ]
  },
  {
   "attachments": {},
   "cell_type": "markdown",
   "metadata": {},
   "source": [
    "As a next filtering step we apply Butina clustering. First we calculate the pairwise distances, then we run the clustering algorithm. Afterwards we select a compound from each cluster. This reduces the number of compounds and makes the filtered set more diverse. "
   ]
  },
  {
   "cell_type": "code",
   "execution_count": 343,
   "metadata": {},
   "outputs": [],
   "source": [
    "def tanimoto_distance_matrix(fp_list):\n",
    "    \"\"\"Calculate distance matrix for fingerprint list\"\"\"\n",
    "    dissimilarity_matrix = []\n",
    "    # Notice how we are deliberately skipping the first and last items in the list\n",
    "    # because we don't need to compare them against themselves\n",
    "    for i in range(1, len(fp_list)):\n",
    "        # Compare the current fingerprint against all the previous ones in the list\n",
    "        similarities = DataStructs.BulkTanimotoSimilarity(fp_list[i], fp_list[:i])\n",
    "        # Since we need a distance matrix, calculate 1-x for every element in similarity matrix\n",
    "        dissimilarity_matrix.extend([1 - x for x in similarities])\n",
    "    return dissimilarity_matrix"
   ]
  },
  {
   "cell_type": "code",
   "execution_count": 344,
   "metadata": {},
   "outputs": [],
   "source": [
    "# Fingerprints as lists\n",
    "fingerprints=filtered_df[\"morgan\"].to_list()\n",
    "# Calculate distance matrix\n",
    "dist_matrix = tanimoto_distance_matrix(fingerprints)\n",
    "# Define distance cut-off\n",
    "cutoff=0.7"
   ]
  },
  {
   "cell_type": "code",
   "execution_count": 345,
   "metadata": {},
   "outputs": [],
   "source": [
    "# clustering \n",
    "clusters = Butina.ClusterData(dist_matrix, len(fingerprints), cutoff, isDistData=True)\n",
    "clusters = sorted(clusters, key=len, reverse=True)"
   ]
  },
  {
   "cell_type": "code",
   "execution_count": 346,
   "metadata": {},
   "outputs": [],
   "source": [
    "# get indexes of compounds we want to keep (one index for each cluster)\n",
    "cluster_indexes = []\n",
    "for cluster in clusters: \n",
    "    cluster_indexes.append(cluster[0])"
   ]
  },
  {
   "cell_type": "code",
   "execution_count": 347,
   "metadata": {},
   "outputs": [
    {
     "data": {
      "text/plain": [
       "(40, 8)"
      ]
     },
     "execution_count": 347,
     "metadata": {},
     "output_type": "execute_result"
    }
   ],
   "source": [
    "# create dataframe with remaining compounds \n",
    "cluster_df = filtered_df.iloc[cluster_indexes]\n",
    "cluster_df.shape"
   ]
  },
  {
   "cell_type": "code",
   "execution_count": 348,
   "metadata": {},
   "outputs": [
    {
     "data": {
      "text/html": [
       "<div>\n",
       "<style scoped>\n",
       "    .dataframe tbody tr th:only-of-type {\n",
       "        vertical-align: middle;\n",
       "    }\n",
       "\n",
       "    .dataframe tbody tr th {\n",
       "        vertical-align: top;\n",
       "    }\n",
       "\n",
       "    .dataframe thead th {\n",
       "        text-align: right;\n",
       "    }\n",
       "</style>\n",
       "<table border=\"1\" class=\"dataframe\">\n",
       "  <thead>\n",
       "    <tr style=\"text-align: right;\">\n",
       "      <th></th>\n",
       "      <th>chembl_id</th>\n",
       "      <th>canonical_smiles</th>\n",
       "      <th>morgan</th>\n",
       "      <th>molecule</th>\n",
       "      <th>active/inactive</th>\n",
       "      <th>0 prob</th>\n",
       "      <th>1 prob</th>\n",
       "      <th>lipinski</th>\n",
       "    </tr>\n",
       "  </thead>\n",
       "  <tbody>\n",
       "    <tr>\n",
       "      <th>347</th>\n",
       "      <td>CHEMBL2447950</td>\n",
       "      <td>Cl.CCOc1cc2ncnc(Nc3cccc(Cl)c3)c2cc1OCC</td>\n",
       "      <td>[0, 0, 0, 0, 0, 0, 0, 0, 0, 0, 0, 0, 0, 0, 0, ...</td>\n",
       "      <td>&lt;rdkit.Chem.rdchem.Mol object at 0x18d7622c0&gt;</td>\n",
       "      <td>1</td>\n",
       "      <td>0.04</td>\n",
       "      <td>0.96</td>\n",
       "      <td>True</td>\n",
       "    </tr>\n",
       "    <tr>\n",
       "      <th>615</th>\n",
       "      <td>CHEMBL3671504</td>\n",
       "      <td>Fc1cc(Br)ccc1Nc2ncnc3cc(OCCC=C)c(NC(=O)C=C)cc23</td>\n",
       "      <td>[0, 0, 0, 0, 0, 0, 0, 0, 0, 0, 0, 0, 0, 1, 0, ...</td>\n",
       "      <td>&lt;rdkit.Chem.rdchem.Mol object at 0x18d76ec80&gt;</td>\n",
       "      <td>1</td>\n",
       "      <td>0.00</td>\n",
       "      <td>1.00</td>\n",
       "      <td>True</td>\n",
       "    </tr>\n",
       "    <tr>\n",
       "      <th>106</th>\n",
       "      <td>CHEMBL138940</td>\n",
       "      <td>Fc1ccc(Nc2ncnc3cnc(NC(=O)\\C=C\\C(=O)NCCCN4CCOCC...</td>\n",
       "      <td>[0, 0, 0, 0, 0, 0, 0, 0, 0, 0, 0, 0, 0, 0, 0, ...</td>\n",
       "      <td>&lt;rdkit.Chem.rdchem.Mol object at 0x18d756f20&gt;</td>\n",
       "      <td>1</td>\n",
       "      <td>0.01</td>\n",
       "      <td>0.99</td>\n",
       "      <td>True</td>\n",
       "    </tr>\n",
       "    <tr>\n",
       "      <th>757</th>\n",
       "      <td>CHEMBL394056</td>\n",
       "      <td>COCc1ccn2ncnc(Nc3ccc4c(cnn4Cc5cccc(F)c5)c3)c12</td>\n",
       "      <td>[0, 0, 0, 0, 0, 0, 0, 0, 0, 0, 0, 0, 0, 0, 0, ...</td>\n",
       "      <td>&lt;rdkit.Chem.rdchem.Mol object at 0x18d775780&gt;</td>\n",
       "      <td>1</td>\n",
       "      <td>0.09</td>\n",
       "      <td>0.91</td>\n",
       "      <td>True</td>\n",
       "    </tr>\n",
       "    <tr>\n",
       "      <th>509</th>\n",
       "      <td>CHEMBL3301625</td>\n",
       "      <td>COCCOc1ccc(Nc2ncc(F)c(Nc3cccc(NC(=O)C=C)c3)n2)cc1</td>\n",
       "      <td>[0, 0, 0, 0, 0, 0, 0, 0, 0, 0, 0, 0, 0, 1, 0, ...</td>\n",
       "      <td>&lt;rdkit.Chem.rdchem.Mol object at 0x18d769cc0&gt;</td>\n",
       "      <td>1</td>\n",
       "      <td>0.30</td>\n",
       "      <td>0.70</td>\n",
       "      <td>True</td>\n",
       "    </tr>\n",
       "  </tbody>\n",
       "</table>\n",
       "</div>"
      ],
      "text/plain": [
       "         chembl_id                                   canonical_smiles   \n",
       "347  CHEMBL2447950             Cl.CCOc1cc2ncnc(Nc3cccc(Cl)c3)c2cc1OCC  \\\n",
       "615  CHEMBL3671504    Fc1cc(Br)ccc1Nc2ncnc3cc(OCCC=C)c(NC(=O)C=C)cc23   \n",
       "106   CHEMBL138940  Fc1ccc(Nc2ncnc3cnc(NC(=O)\\C=C\\C(=O)NCCCN4CCOCC...   \n",
       "757   CHEMBL394056     COCc1ccn2ncnc(Nc3ccc4c(cnn4Cc5cccc(F)c5)c3)c12   \n",
       "509  CHEMBL3301625  COCCOc1ccc(Nc2ncc(F)c(Nc3cccc(NC(=O)C=C)c3)n2)cc1   \n",
       "\n",
       "                                                morgan   \n",
       "347  [0, 0, 0, 0, 0, 0, 0, 0, 0, 0, 0, 0, 0, 0, 0, ...  \\\n",
       "615  [0, 0, 0, 0, 0, 0, 0, 0, 0, 0, 0, 0, 0, 1, 0, ...   \n",
       "106  [0, 0, 0, 0, 0, 0, 0, 0, 0, 0, 0, 0, 0, 0, 0, ...   \n",
       "757  [0, 0, 0, 0, 0, 0, 0, 0, 0, 0, 0, 0, 0, 0, 0, ...   \n",
       "509  [0, 0, 0, 0, 0, 0, 0, 0, 0, 0, 0, 0, 0, 1, 0, ...   \n",
       "\n",
       "                                          molecule  active/inactive  0 prob   \n",
       "347  <rdkit.Chem.rdchem.Mol object at 0x18d7622c0>                1    0.04  \\\n",
       "615  <rdkit.Chem.rdchem.Mol object at 0x18d76ec80>                1    0.00   \n",
       "106  <rdkit.Chem.rdchem.Mol object at 0x18d756f20>                1    0.01   \n",
       "757  <rdkit.Chem.rdchem.Mol object at 0x18d775780>                1    0.09   \n",
       "509  <rdkit.Chem.rdchem.Mol object at 0x18d769cc0>                1    0.30   \n",
       "\n",
       "     1 prob  lipinski  \n",
       "347    0.96      True  \n",
       "615    1.00      True  \n",
       "106    0.99      True  \n",
       "757    0.91      True  \n",
       "509    0.70      True  "
      ]
     },
     "execution_count": 348,
     "metadata": {},
     "output_type": "execute_result"
    }
   ],
   "source": [
    "cluster_df.head()"
   ]
  },
  {
   "attachments": {},
   "cell_type": "markdown",
   "metadata": {},
   "source": [
    "As a last filtering step, we look at the results from the random forest again. In addition to a classification results, we can also look at the classification probability. We want to only keep compounds with a high probability of being classified as active (1). \n"
   ]
  },
  {
   "cell_type": "code",
   "execution_count": 349,
   "metadata": {},
   "outputs": [
    {
     "data": {
      "text/plain": [
       "(11, 8)"
      ]
     },
     "execution_count": 349,
     "metadata": {},
     "output_type": "execute_result"
    }
   ],
   "source": [
    "# filter with RF probability\n",
    "cluster_df = cluster_df[cluster_df[\"1 prob\"] > 0.95]\n",
    "cluster_df.shape"
   ]
  },
  {
   "attachments": {},
   "cell_type": "markdown",
   "metadata": {},
   "source": [
    "Finally, we can display our chosen compounds. "
   ]
  },
  {
   "cell_type": "code",
   "execution_count": 350,
   "metadata": {},
   "outputs": [
    {
     "data": {
      "image/png": "[encoded data removed]",
      "text/plain": [
       "<PIL.PngImagePlugin.PngImageFile image mode=RGB size=1200x900>"
      ]
     },
     "execution_count": 350,
     "metadata": {},
     "output_type": "execute_result"
    }
   ],
   "source": [
    "\n",
    "list_compounds = [Chem.MolFromSmiles(smiles) for smiles in cluster_df['canonical_smiles']]\n",
    "\n",
    "Draw.MolsToGridImage(list_compounds, molsPerRow=4,subImgSize=(300,300), legends=cluster_df['chembl_id'].tolist())"
   ]
  },
  {
   "cell_type": "code",
   "execution_count": 351,
   "metadata": {},
   "outputs": [
    {
     "data": {
      "text/html": [
       "<div>\n",
       "<style scoped>\n",
       "    .dataframe tbody tr th:only-of-type {\n",
       "        vertical-align: middle;\n",
       "    }\n",
       "\n",
       "    .dataframe tbody tr th {\n",
       "        vertical-align: top;\n",
       "    }\n",
       "\n",
       "    .dataframe thead th {\n",
       "        text-align: right;\n",
       "    }\n",
       "</style>\n",
       "<table border=\"1\" class=\"dataframe\">\n",
       "  <thead>\n",
       "    <tr style=\"text-align: right;\">\n",
       "      <th></th>\n",
       "      <th>chembl_id</th>\n",
       "      <th>canonical_smiles</th>\n",
       "      <th>morgan</th>\n",
       "      <th>molecule</th>\n",
       "      <th>active/inactive</th>\n",
       "      <th>0 prob</th>\n",
       "      <th>1 prob</th>\n",
       "      <th>lipinski</th>\n",
       "    </tr>\n",
       "  </thead>\n",
       "  <tbody>\n",
       "    <tr>\n",
       "      <th>347</th>\n",
       "      <td>CHEMBL2447950</td>\n",
       "      <td>Cl.CCOc1cc2ncnc(Nc3cccc(Cl)c3)c2cc1OCC</td>\n",
       "      <td>[0, 0, 0, 0, 0, 0, 0, 0, 0, 0, 0, 0, 0, 0, 0, ...</td>\n",
       "      <td>&lt;rdkit.Chem.rdchem.Mol object at 0x18d7622c0&gt;</td>\n",
       "      <td>1</td>\n",
       "      <td>0.0400</td>\n",
       "      <td>0.9600</td>\n",
       "      <td>True</td>\n",
       "    </tr>\n",
       "    <tr>\n",
       "      <th>615</th>\n",
       "      <td>CHEMBL3671504</td>\n",
       "      <td>Fc1cc(Br)ccc1Nc2ncnc3cc(OCCC=C)c(NC(=O)C=C)cc23</td>\n",
       "      <td>[0, 0, 0, 0, 0, 0, 0, 0, 0, 0, 0, 0, 0, 1, 0, ...</td>\n",
       "      <td>&lt;rdkit.Chem.rdchem.Mol object at 0x18d76ec80&gt;</td>\n",
       "      <td>1</td>\n",
       "      <td>0.0000</td>\n",
       "      <td>1.0000</td>\n",
       "      <td>True</td>\n",
       "    </tr>\n",
       "    <tr>\n",
       "      <th>106</th>\n",
       "      <td>CHEMBL138940</td>\n",
       "      <td>Fc1ccc(Nc2ncnc3cnc(NC(=O)\\C=C\\C(=O)NCCCN4CCOCC...</td>\n",
       "      <td>[0, 0, 0, 0, 0, 0, 0, 0, 0, 0, 0, 0, 0, 0, 0, ...</td>\n",
       "      <td>&lt;rdkit.Chem.rdchem.Mol object at 0x18d756f20&gt;</td>\n",
       "      <td>1</td>\n",
       "      <td>0.0100</td>\n",
       "      <td>0.9900</td>\n",
       "      <td>True</td>\n",
       "    </tr>\n",
       "    <tr>\n",
       "      <th>919</th>\n",
       "      <td>CHEMBL513208</td>\n",
       "      <td>CN(C)Cc1ccc(Nc2nc3ncnc(Nc4ccc(F)c(Cl)c4)c3s2)cc1</td>\n",
       "      <td>[0, 0, 0, 0, 0, 0, 0, 0, 0, 0, 0, 0, 0, 0, 0, ...</td>\n",
       "      <td>&lt;rdkit.Chem.rdchem.Mol object at 0x18d77d180&gt;</td>\n",
       "      <td>1</td>\n",
       "      <td>0.0200</td>\n",
       "      <td>0.9800</td>\n",
       "      <td>True</td>\n",
       "    </tr>\n",
       "    <tr>\n",
       "      <th>765</th>\n",
       "      <td>CHEMBL3952157</td>\n",
       "      <td>COc1ccc(cc1)c2oc3ncnc(N[C@H](CO)c4ccccc4)c3c2</td>\n",
       "      <td>[0, 1, 0, 0, 0, 0, 0, 0, 0, 0, 0, 0, 0, 0, 0, ...</td>\n",
       "      <td>&lt;rdkit.Chem.rdchem.Mol object at 0x18d775d80&gt;</td>\n",
       "      <td>1</td>\n",
       "      <td>0.0175</td>\n",
       "      <td>0.9825</td>\n",
       "      <td>True</td>\n",
       "    </tr>\n",
       "  </tbody>\n",
       "</table>\n",
       "</div>"
      ],
      "text/plain": [
       "         chembl_id                                   canonical_smiles   \n",
       "347  CHEMBL2447950             Cl.CCOc1cc2ncnc(Nc3cccc(Cl)c3)c2cc1OCC  \\\n",
       "615  CHEMBL3671504    Fc1cc(Br)ccc1Nc2ncnc3cc(OCCC=C)c(NC(=O)C=C)cc23   \n",
       "106   CHEMBL138940  Fc1ccc(Nc2ncnc3cnc(NC(=O)\\C=C\\C(=O)NCCCN4CCOCC...   \n",
       "919   CHEMBL513208   CN(C)Cc1ccc(Nc2nc3ncnc(Nc4ccc(F)c(Cl)c4)c3s2)cc1   \n",
       "765  CHEMBL3952157      COc1ccc(cc1)c2oc3ncnc(N[C@H](CO)c4ccccc4)c3c2   \n",
       "\n",
       "                                                morgan   \n",
       "347  [0, 0, 0, 0, 0, 0, 0, 0, 0, 0, 0, 0, 0, 0, 0, ...  \\\n",
       "615  [0, 0, 0, 0, 0, 0, 0, 0, 0, 0, 0, 0, 0, 1, 0, ...   \n",
       "106  [0, 0, 0, 0, 0, 0, 0, 0, 0, 0, 0, 0, 0, 0, 0, ...   \n",
       "919  [0, 0, 0, 0, 0, 0, 0, 0, 0, 0, 0, 0, 0, 0, 0, ...   \n",
       "765  [0, 1, 0, 0, 0, 0, 0, 0, 0, 0, 0, 0, 0, 0, 0, ...   \n",
       "\n",
       "                                          molecule  active/inactive  0 prob   \n",
       "347  <rdkit.Chem.rdchem.Mol object at 0x18d7622c0>                1  0.0400  \\\n",
       "615  <rdkit.Chem.rdchem.Mol object at 0x18d76ec80>                1  0.0000   \n",
       "106  <rdkit.Chem.rdchem.Mol object at 0x18d756f20>                1  0.0100   \n",
       "919  <rdkit.Chem.rdchem.Mol object at 0x18d77d180>                1  0.0200   \n",
       "765  <rdkit.Chem.rdchem.Mol object at 0x18d775d80>                1  0.0175   \n",
       "\n",
       "     1 prob  lipinski  \n",
       "347  0.9600      True  \n",
       "615  1.0000      True  \n",
       "106  0.9900      True  \n",
       "919  0.9800      True  \n",
       "765  0.9825      True  "
      ]
     },
     "execution_count": 351,
     "metadata": {},
     "output_type": "execute_result"
    }
   ],
   "source": [
    "cluster_df.head()"
   ]
  },
  {
   "attachments": {},
   "cell_type": "markdown",
   "metadata": {},
   "source": [
    "To continue with the structure-based pipeline, we need to write the molecules to a file, so we have our final compounds. "
   ]
  },
  {
   "cell_type": "code",
   "execution_count": 352,
   "metadata": {},
   "outputs": [],
   "source": [
    "# write to file, we only need the chembl id and the smiles string \n",
    "cluster_df.to_csv('data/filtered_compounds.csv', columns=['chembl_id', 'canonical_smiles'], index=False)"
   ]
  }
 ],
 "metadata": {
  "kernelspec": {
   "display_name": "py310_aisem2023",
   "language": "python",
   "name": "python3"
  },
  "language_info": {
   "codemirror_mode": {
    "name": "ipython",
    "version": 3
   },
   "file_extension": ".py",
   "mimetype": "text/x-python",
   "name": "python",
   "nbconvert_exporter": "python",
   "pygments_lexer": "ipython3",
   "version": "3.10.10"
  },
  "orig_nbformat": 4
 },
 "nbformat": 4,
 "nbformat_minor": 2
}
