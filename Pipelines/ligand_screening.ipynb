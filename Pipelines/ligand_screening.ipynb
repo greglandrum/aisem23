{
 "cells": [
  {
   "cell_type": "markdown",
   "metadata": {},
   "source": [
    "# Ligand-based screening "
   ]
  },
  {
   "cell_type": "markdown",
   "metadata": {},
   "source": [
    "Your task here is to implement a virtual screening pipeline for unknown compounds using a machine learning approach. "
   ]
  },
  {
   "cell_type": "code",
   "execution_count": null,
   "metadata": {
    "tags": []
   },
   "outputs": [],
   "source": [
    "# Do not forget to import the needed libraries"
   ]
  },
  {
   "cell_type": "markdown",
   "metadata": {},
   "source": [
    "### Task 1: Data Preparation\n",
    "To make the ML part easier for you, we have prepared an EGFR dataset for training (“data/ChEMBL25_activities_EGFR.csv”). Your task is to predict whether a compound is active or not. For the model, you will encode your compounds using fingerprints. Like before, first read in the data into a data frame, then calculate the Morgan fingerprints for all given compounds. \n"
   ]
  },
  {
   "cell_type": "code",
   "execution_count": null,
   "metadata": {},
   "outputs": [],
   "source": [
    "# read in file "
   ]
  },
  {
   "cell_type": "code",
   "execution_count": null,
   "metadata": {},
   "outputs": [],
   "source": [
    "# morgan fingerprint "
   ]
  },
  {
   "cell_type": "markdown",
   "metadata": {},
   "source": [
    "Now, add a column in your data frame indicating whether a compound is active or not. Set the values 1, 0 for active, inactive compounds respectively using activity cutoff to pIC50 = 6.3.  "
   ]
  },
  {
   "cell_type": "code",
   "execution_count": null,
   "metadata": {},
   "outputs": [],
   "source": [
    "# compound activity"
   ]
  },
  {
   "cell_type": "markdown",
   "metadata": {},
   "source": [
    "### Task 2: Machine Learning \n",
    "Train a Random Forest model using the data prepared above. Set the random state to 0 for reproducible results. Split your data into 80% training and 20% test data and set the seed to 1234 for reproducible results. "
   ]
  },
  {
   "cell_type": "code",
   "execution_count": null,
   "metadata": {},
   "outputs": [],
   "source": [
    "# random forest model "
   ]
  },
  {
   "cell_type": "markdown",
   "metadata": {},
   "source": [
    "To evaluate your model, calculate the accuracy, AUC, sensitivity, and specificity values (for sensitivity and specificity search for the sklearn function recall_score)."
   ]
  },
  {
   "cell_type": "code",
   "execution_count": null,
   "metadata": {},
   "outputs": [],
   "source": [
    "# model evaluation"
   ]
  },
  {
   "cell_type": "markdown",
   "metadata": {},
   "source": [
    "### Task 3: Compound Filtering \n",
    "\n",
    "Filter the compounds in \"data/test_compounds_EGFR.csv\" down to 20 compounds. For this, you can combine I) classical similarity searches/substructure searches II) predictions via a machine learning approach, III) filtering criteria based on molecular properties (Lipinski's rule of five) IV) and/or clustering. Note that you will predict the binding affinity and binding mode of your selected subset via docking for further filtering. It might be wise to have a selected set of diverse compounds, e.g. obtained using different selection criteria.\n",
    "\n",
    "\n",
    "- Read in the data containing the unknown compounds. Start your filtering with an activity prediction using the trained random forest model. If you have time, feel free to try out different models (e.g. what you have seen in previous sessions) and choose your favorite one for the filtering. \n"
   ]
  },
  {
   "cell_type": "code",
   "execution_count": null,
   "metadata": {},
   "outputs": [],
   "source": [
    "# apply RF model to unknown compounds and filter "
   ]
  },
  {
   "cell_type": "markdown",
   "metadata": {},
   "source": [
    "- Now filter the remaining compounds using one of the previously mentioned options: \n",
    "    - similarity / substructure search \n",
    "    - filtering based on Lipinski's rule \n",
    "    - clustering "
   ]
  },
  {
   "cell_type": "code",
   "execution_count": null,
   "metadata": {},
   "outputs": [],
   "source": [
    "# further filtering "
   ]
  },
  {
   "cell_type": "markdown",
   "metadata": {},
   "source": [
    "* draw the set of selected compounds"
   ]
  },
  {
   "cell_type": "code",
   "execution_count": null,
   "metadata": {},
   "outputs": [],
   "source": [
    "# draw molecules"
   ]
  },
  {
   "cell_type": "markdown",
   "metadata": {},
   "source": [
    "* write them to disk"
   ]
  },
  {
   "cell_type": "code",
   "execution_count": null,
   "metadata": {},
   "outputs": [],
   "source": [
    "# save selected compounds"
   ]
  }
 ],
 "metadata": {
  "kernelspec": {
   "display_name": "Python 3 (ipykernel)",
   "language": "python",
   "name": "python3"
  },
  "language_info": {
   "codemirror_mode": {
    "name": "ipython",
    "version": 3
   },
   "file_extension": ".py",
   "mimetype": "text/x-python",
   "name": "python",
   "nbconvert_exporter": "python",
   "pygments_lexer": "ipython3",
   "version": "3.10.10"
  }
 },
 "nbformat": 4,
 "nbformat_minor": 4
}
