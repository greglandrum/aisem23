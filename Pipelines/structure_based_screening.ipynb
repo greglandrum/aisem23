{
 "cells": [
  {
   "attachments": {},
   "cell_type": "markdown",
   "metadata": {},
   "source": [
    "# Structure-based Screening Pipeline"
   ]
  },
  {
   "attachments": {},
   "cell_type": "markdown",
   "metadata": {},
   "source": [
    "## Task 1: Get query structure from PDB \n",
    "\n",
    "Generally, protein structures can be downloaded from the protein data bank ([PDB](http://www.rcsb.org)), the largest freely available deposition of 3D protein structures. To get a suitable structure, you can either do it programmatically or manually. For an automated way, you can look at the teachopenCADD talktorial [T008:Protein data acquisition: Protein Data Bank](https://projects.volkamerlab.org/teachopencadd/talktorials/T008_query_pdb.html). \n",
    "\n",
    "To make it easier for you, you can choose a structure manually. On the website, you can use the upper right search field and search for ‘EGFR’, and a list of matching entries will be given. To refine your search you can, e.g., restrict the results to human only, from X-ray, having a good resolution (< 2Å) and a recent deposition date (>2010). \n",
    "\n",
    "For kinases, more and detailed information is available on the [KLIFS](https://klifs.net/) webpage. Here, you also find additional information about the DFG-loop state of the available structures as well as some quality criteria, such as the number of missing residues.\n",
    "Your task is to choose a suitable EGFR structure for docking. Make sure that your structure is complete (no missing residues) around the active site. To keep it simple, try to select a structure containing only one biological unit. Note down the PDB ID of your structure. Using the example code below, you can retrieve the structure from PDB using the ID.\n",
    "\n",
    "\n",
    "```ruby\n",
    "# retrieve structure from the Protein Data Bank\n",
    "pdb_id = \"2ito\"\n",
    "structure = Structure.from_pdbid(pdb_id)\n",
    "# element information maybe missing, but important for subsequent PDBQT conversion\n",
    "if not hasattr(structure.atoms, \"elements\"):\n",
    "    structure.add_TopologyAttr(\"elements\", structure.atoms.types)\n",
    "structure\n",
    "```\n"
   ]
  },
  {
   "attachments": {},
   "cell_type": "markdown",
   "metadata": {},
   "source": [
    "## Task 2: Binding site detection\n",
    "\n",
    "If a co-crystallized ligand is not present in your protein structure, you need to specify the binding site manually. Several pocket detection algorithms were developed to detect protein pockets suitable for binding of drug-like molecules. \n",
    "\n",
    "Helpful talktorial: [T014-Binding site detection](https://projects.volkamerlab.org/teachopencadd/talktorials/T014_binding_site_detection.html)\n",
    "\n",
    "\n",
    "### Task 2.1\n",
    "Use the DoGSiteScorer available at [proteins.plus](http://www.proteins.plus) to identify pockets in your protein-ligand complex. Check the “subpockets” box to receive more fine-grained pocket results. Is the binding site of the co-crystallized ligand scored the best (is it considered druggable)? Is the predicted binding site covering the co-crystallized ligand well? \n",
    "\n",
    "\n",
    "### Task 2.2\n",
    "[*optional*] Download the results from DoGSiteScorer. In the zipped archive locate the PDB file of your favorite predicted binding site inside the residues directory. Open the PDB file in a text editor and note down the geometric center and radius of the binding site. You can visualize the identified geometric center and radius from DoGSiteScorer in PyMol with the use of the pseudoatom command. After creating the pseudoatom with the right coordinates, you can display it as a sphere and change the radius accordingly (Tip: Use the sphere_transparency setting to better visualize all components together). Are you confident about the selected parameters or would you adjust them?\n",
    "\n",
    "### Task 2.3\n",
    "[*optional*] Similar to proteins.plus, PyMol can also be used to visualize volumetric maps. In the downloaded DoGSiteScorer results locate your preferred binding pocket in CCP4 format and load it together with the protein-ligand complex into PyMol.\n",
    "\n",
    "\n"
   ]
  },
  {
   "attachments": {},
   "cell_type": "markdown",
   "metadata": {},
   "source": [
    "## Task 3: Docking\n",
    "\n",
    "Before we can start with the docking, we need to prepare our structures. \n",
    "\n",
    "### Task 3.1\n",
    "To automatically prepare the structure, use Protoss (proteins.plus). Protoss adds missing hydrogen atoms to protein structures (PDB-format) and detects reasonable protonation states, tautomers, and hydrogen coordinates of both protein and ligand molecules. Upload your chosen structure to the server and store the optimized PDB structure."
   ]
  },
  {
   "attachments": {},
   "cell_type": "markdown",
   "metadata": {},
   "source": [
    "### Task 3.2\n",
    "\n",
    "For the docking calculations, we need to separate the ligand and protein. Thus, the ligand must be extracted from the protein structure and deleted from the protein structure for docking calculations, otherwise there is no space in the binding site.\n",
    "\n",
    "**TODO**"
   ]
  },
  {
   "attachments": {},
   "cell_type": "markdown",
   "metadata": {},
   "source": [
    "### Task 3.3 \n",
    "Programs based on the AutoDock software require protein and ligand to be prepared in PDBQT format (AutoDock FAQ). This file format is very similar to the PDB format but additionally stores information about atom types and partial charges. Luckily, the OpenBabel package provides functionality for converting between different file formats and calculating partial charges (command: `obabel protein.pdb -O protein.pdbqt --partialcharge gasteiger`). Check if the generated PDBQT files for protein and ligand contain information about the assigned charges for each atom. In theory, we could also use OpenBabel to add hydrogens. However, Protoss already added missing hydrogens considering protein and ligand in complex, which is more accurate than protonating protein and ligand separately."
   ]
  },
  {
   "attachments": {},
   "cell_type": "markdown",
   "metadata": {},
   "source": [
    "### Task 3.4\n",
    "For docking your filtered compounds, you need the 3D structures of the molecules. Calculate the 3D structure of each molecule and save them in a single SDF file.\n",
    "\n",
    "Tip:\n",
    "```ruby\n",
    "w = Chem.SDWriter('data/foo.sdf')\n",
    "for m in mols:\n",
    "    AllChem.EmbedMolecule(m)\t\t# calculates 3D structure\n",
    "    AllChem.UFFOptimizeMolecule(m)\t# improves quality of the conformation\n",
    "    w.write(m)\n",
    "```"
   ]
  },
  {
   "cell_type": "code",
   "execution_count": null,
   "metadata": {},
   "outputs": [],
   "source": [
    "# calculate 3D structure and write to SDF file"
   ]
  },
  {
   "attachments": {},
   "cell_type": "markdown",
   "metadata": {},
   "source": [
    "### Task 3.5\n",
    "\n",
    "With everything in hand, we can finally run our docking calculation using Smina with the following command:\n",
    "```\n",
    "smina --ligand test_ligand.sdf --receptor protein.pdbqt --out docking_poses.sdf --autobox_ligand ligand.pdbqt --num_modes 1\n",
    "````\n",
    "Your docked compounds will all be in `docking_poses.sdf`. "
   ]
  },
  {
   "attachments": {},
   "cell_type": "markdown",
   "metadata": {},
   "source": [
    "## Task 4: Visualize docking results \n",
    "\n",
    "To visualize your docking results, we will use the NGLView package. \n",
    "\n",
    "Helpful tutorial: [T015-Protein ligand docking](https://projects.volkamerlab.org/teachopencadd/talktorials/T015_protein_ligand_docking.html)\n",
    "\n",
    "\n",
    "**TODO**"
   ]
  },
  {
   "attachments": {},
   "cell_type": "markdown",
   "metadata": {},
   "source": [
    "To interpret your docking results, there are several indicators you can look at if you have time:  \n",
    "- Which compounds/poses have the best docking scores?\n",
    "- Visually inspect the results using a molecule viewer to analyze the binding mode and compare them to the co-crystallized ligand or other known EGFR inhibitors. \n",
    "- Is the binding site well covered? Do protein and pose fit to each other (shape and physico-chemically). Are key interactions (e.g. hinge binding motif) present. You may also use PoseView for inspection.\n",
    "\n",
    "Based on these (and other criteria you can think of), you can filter your compounds down further. In the end, you should select three compounds that seem to be most promising to you.\n"
   ]
  }
 ],
 "metadata": {
  "language_info": {
   "name": "python"
  },
  "orig_nbformat": 4
 },
 "nbformat": 4,
 "nbformat_minor": 2
}
