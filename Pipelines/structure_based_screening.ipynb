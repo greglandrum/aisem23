{
 "cells": [
  {
   "cell_type": "markdown",
   "metadata": {},
   "source": [
    "# Structure-Based Screening Pipeline"
   ]
  },
  {
   "cell_type": "markdown",
   "metadata": {},
   "source": [
    "Import libraries"
   ]
  },
  {
   "cell_type": "markdown",
   "metadata": {},
   "source": [
    "Note: Make sure you have biotide installed:\n",
    "`conda install -c conda-forge biotite`"
   ]
  },
  {
   "cell_type": "code",
   "execution_count": null,
   "metadata": {
    "tags": []
   },
   "outputs": [],
   "source": [
    "from pathlib import Path \n",
    "\n",
    "import biotite.database.rcsb as rcsb\n",
    "import nglview as nv\n",
    "\n",
    "from openbabel import pybel"
   ]
  },
  {
   "cell_type": "markdown",
   "metadata": {},
   "source": [
    "## Task 1: Get protein structure from PDB\n",
    "\n",
    "Generally, protein structures can be downloaded from the protein data bank ([PDB](http://www.rcsb.org)), the largest freely available deposition of 3D protein structures. To get a suitable structure, you can either get it programmatically or manually. \n",
    "\n",
    "* For an automated way, we will have a look at the teachopenCADD talktorial [T008:Protein data acquisition](https://projects.volkamerlab.org/teachopencadd/talktorials/T008_query_pdb.html).\n",
    "* To make it easier for you, you can also choose a structure manually. \n",
    "    * On the website, you can use the upper right search field and search for `EGFR` or `P00533`\n",
    "    * A list of matching entries will be given. "
   ]
  },
  {
   "cell_type": "markdown",
   "metadata": {},
   "source": [
    "Your selection of the PDB structure to work with may depend on diverse criteria. To refine your search you can for example restrict the results to\n",
    "* Human only\n",
    "* X-ray structure\n",
    "* Having a good resolution (< 2Å)\n",
    "* and a recent deposition date (>2010) "
   ]
  },
  {
   "cell_type": "markdown",
   "metadata": {},
   "source": [
    "For kinases, more and detailed information is available on the [**KLIFS**](https://klifs.net/) webpage. Here, you also find additional information about the `DFG-loop` state of the `available structures` as well as some `quality criteria`, such as the number of missing residues."
   ]
  },
  {
   "cell_type": "markdown",
   "metadata": {},
   "source": [
    "### 1.1. Identify query structure(s) from PDB \n",
    "\n",
    "* Define selection criteria"
   ]
  },
  {
   "cell_type": "code",
   "execution_count": 4,
   "metadata": {
    "tags": []
   },
   "outputs": [],
   "source": [
    "uniprot_id = \"P00533\"\n",
    "after_deposition_date = \"2010-01-01T00:00:00Z\"\n",
    "experimental_method = \"X-RAY DIFFRACTION\"\n",
    "max_resolution = 2.0\n",
    "n_chains = 1\n",
    "min_ligand_molecular_weight = 100.0"
   ]
  },
  {
   "cell_type": "markdown",
   "metadata": {},
   "source": [
    "* Set-up the `rcsb` query"
   ]
  },
  {
   "cell_type": "code",
   "execution_count": 7,
   "metadata": {
    "tags": []
   },
   "outputs": [],
   "source": [
    "# Uniprot id\n",
    "query_by_uniprot_id = rcsb.FieldQuery(\n",
    "    \"rcsb_polymer_entity_container_identifiers.reference_sequence_identifiers.database_accession\",\n",
    "    exact_match=uniprot_id,\n",
    ")\n",
    "# Deposition date\n",
    "query_by_deposition_date = rcsb.FieldQuery(\n",
    "    \"rcsb_accession_info.deposit_date\", greater=after_deposition_date\n",
    ")\n",
    "# X-ray\n",
    "query_by_experimental_method = rcsb.FieldQuery(\"exptl.method\", exact_match=experimental_method)\n",
    "# Resolution\n",
    "query_by_resolution = rcsb.FieldQuery(\n",
    "    \"rcsb_entry_info.resolution_combined\", less_or_equal=max_resolution\n",
    ")\n",
    "# Chain\n",
    "query_by_polymer_count = rcsb.FieldQuery(\n",
    "    \"rcsb_entry_info.deposited_polymer_entity_instance_count\", equals=n_chains\n",
    ")\n",
    "# Ligand size\n",
    "query_by_ligand_mw = rcsb.FieldQuery(\n",
    "    \"chem_comp.formula_weight\", molecular_definition=True, greater=min_ligand_molecular_weight\n",
    ")"
   ]
  },
  {
   "cell_type": "markdown",
   "metadata": {},
   "source": [
    "* Combine the query"
   ]
  },
  {
   "cell_type": "code",
   "execution_count": 8,
   "metadata": {
    "tags": []
   },
   "outputs": [],
   "source": [
    "query = rcsb.CompositeQuery(\n",
    "    [\n",
    "        query_by_uniprot_id,\n",
    "        query_by_deposition_date,\n",
    "        query_by_experimental_method,\n",
    "        query_by_resolution,\n",
    "        query_by_polymer_count,\n",
    "        query_by_ligand_mw,\n",
    "    ],\n",
    "    \"and\",\n",
    ")"
   ]
  },
  {
   "cell_type": "markdown",
   "metadata": {
    "tags": []
   },
   "source": [
    "* Perform the query \n",
    "\n",
    "Note: this step can take some time depending on the connection"
   ]
  },
  {
   "cell_type": "code",
   "execution_count": 10,
   "metadata": {
    "tags": []
   },
   "outputs": [],
   "source": [
    "pdb_ids = rcsb.search(query)"
   ]
  },
  {
   "cell_type": "code",
   "execution_count": 12,
   "metadata": {
    "tags": []
   },
   "outputs": [
    {
     "name": "stdout",
     "output_type": "stream",
     "text": [
      "Number of matches: 21\n",
      "Selected PDB IDs:\n",
      "['3POZ', '3W2S', '3W32', '3W33', '4I22', '4WKQ', '4WRG', '5GNK', '5HG5', '5HG7', '5HG8', '5U8L', '5UG8', '5UG9', '5UGA', '5UGC', '7SI1', '8A27', '8A2A', '8A2B', '8A2D']\n"
     ]
    }
   ],
   "source": [
    "print(f\"Number of matches: {len(pdb_ids)}\")\n",
    "print(\"Selected PDB IDs:\")\n",
    "print(pdb_ids)"
   ]
  },
  {
   "cell_type": "markdown",
   "metadata": {},
   "source": [
    "### 1.2. Retrieve structure from the Protein Data Bank\n",
    "\n",
    "Your task is to choose a suitable EGFR structure for docking. Make sure that your structure is complete (no missing residues) around the active site. \n",
    "* To keep it simple, try to select a structure containing only one biological unit. \n",
    "* Note down the PDB ID of your structure. \n",
    "* Using the example code below, you can retrieve the structure from PDB using the ID."
   ]
  },
  {
   "cell_type": "code",
   "execution_count": 1,
   "metadata": {
    "tags": []
   },
   "outputs": [],
   "source": [
    "# Your pdb entry\n",
    "pdb_id = \"2ito\""
   ]
  },
  {
   "cell_type": "code",
   "execution_count": 2,
   "metadata": {
    "tags": []
   },
   "outputs": [
    {
     "ename": "NameError",
     "evalue": "name 'Structure' is not defined",
     "output_type": "error",
     "traceback": [
      "\u001b[0;31m---------------------------------------------------------------------------\u001b[0m",
      "\u001b[0;31mNameError\u001b[0m                                 Traceback (most recent call last)",
      "Cell \u001b[0;32mIn[2], line 1\u001b[0m\n\u001b[0;32m----> 1\u001b[0m structure \u001b[38;5;241m=\u001b[39m \u001b[43mStructure\u001b[49m\u001b[38;5;241m.\u001b[39mfrom_pdbid(pdb_id)\n\u001b[1;32m      2\u001b[0m \u001b[38;5;66;03m# element information maybe missing, but important for subsequent PDBQT conversion\u001b[39;00m\n\u001b[1;32m      3\u001b[0m \u001b[38;5;28;01mif\u001b[39;00m \u001b[38;5;129;01mnot\u001b[39;00m \u001b[38;5;28mhasattr\u001b[39m(structure\u001b[38;5;241m.\u001b[39matoms, \u001b[38;5;124m\"\u001b[39m\u001b[38;5;124melements\u001b[39m\u001b[38;5;124m\"\u001b[39m):\n",
      "\u001b[0;31mNameError\u001b[0m: name 'Structure' is not defined"
     ]
    }
   ],
   "source": [
    "structure = Structure.from_pdbid(pdb_id)\n",
    "# element information maybe missing, but important for subsequent PDBQT conversion\n",
    "if not hasattr(structure.atoms, \"elements\"):\n",
    "    structure.add_TopologyAttr(\"elements\", structure.atoms.types)\n",
    "structure"
   ]
  },
  {
   "cell_type": "markdown",
   "metadata": {},
   "source": [
    "## Task 2: Binding site detection\n",
    "\n",
    "If a co-crystallized ligand is not present in your protein structure, you need to specify the binding site manually. Several pocket detection algorithms were developed to detect protein pockets suitable for binding of drug-like molecules. \n",
    "\n",
    "Helpful talktorial: [T014-Binding site detection](https://projects.volkamerlab.org/teachopencadd/talktorials/T014_binding_site_detection.html)\n",
    "\n",
    "\n",
    "### Task 2.1\n",
    "Use the DoGSiteScorer available at [proteins.plus](http://www.proteins.plus) to identify pockets in your protein-ligand complex. Check the “subpockets” box to receive more fine-grained pocket results. Is the binding site of the co-crystallized ligand scored the best (is it considered druggable)? Is the predicted binding site covering the co-crystallized ligand well? \n",
    "\n",
    "\n",
    "### Task 2.2\n",
    "[*optional*] Download the results from DoGSiteScorer. In the zipped archive locate the PDB file of your favorite predicted binding site inside the residues directory. Open the PDB file in a text editor and note down the geometric center and radius of the binding site. You can visualize the identified geometric center and radius from DoGSiteScorer in PyMol with the use of the pseudoatom command. After creating the pseudoatom with the right coordinates, you can display it as a sphere and change the radius accordingly (Tip: Use the sphere_transparency setting to better visualize all components together). Are you confident about the selected parameters or would you adjust them?\n",
    "\n",
    "### Task 2.3\n",
    "[*optional*] Similar to proteins.plus, PyMol can also be used to visualize volumetric maps. In the downloaded DoGSiteScorer results locate your preferred binding pocket in CCP4 format and load it together with the protein-ligand complex into PyMol.\n",
    "\n",
    "\n"
   ]
  },
  {
   "cell_type": "markdown",
   "metadata": {},
   "source": [
    "## Task 3: Docking\n",
    "\n",
    "Before we can start with the docking, we need to prepare our structures. \n",
    "\n",
    "### Task 3.1\n",
    "To automatically prepare the structure, use Protoss (proteins.plus). Protoss adds missing hydrogen atoms to protein structures (PDB-format) and detects reasonable protonation states, tautomers, and hydrogen coordinates of both protein and ligand molecules. Upload your chosen structure to the server and store the optimized PDB structure."
   ]
  },
  {
   "cell_type": "markdown",
   "metadata": {},
   "source": [
    "### Task 3.2\n",
    "\n",
    "For the docking calculations, we need to separate the ligand and protein. Thus, the ligand must be extracted from the protein structure and deleted from the protein structure for docking calculations, otherwise there is no space in the binding site.\n",
    "\n",
    "**TODO**"
   ]
  },
  {
   "cell_type": "markdown",
   "metadata": {},
   "source": [
    "### Task 3.3 \n",
    "Programs based on the AutoDock software require protein and ligand to be prepared in PDBQT format (AutoDock FAQ). This file format is very similar to the PDB format but additionally stores information about atom types and partial charges. Luckily, the OpenBabel package provides functionality for converting between different file formats and calculating partial charges (command: `obabel protein.pdb -O protein.pdbqt --partialcharge gasteiger`). Check if the generated PDBQT files for protein and ligand contain information about the assigned charges for each atom. In theory, we could also use OpenBabel to add hydrogens. However, Protoss already added missing hydrogens considering protein and ligand in complex, which is more accurate than protonating protein and ligand separately."
   ]
  },
  {
   "cell_type": "markdown",
   "metadata": {},
   "source": [
    "### Task 3.4\n",
    "For docking your filtered compounds, you need the 3D structures of the molecules. Calculate the 3D structure of each molecule and save them in a single SDF file.\n",
    "\n",
    "Tip:\n",
    "```ruby\n",
    "w = Chem.SDWriter('data/foo.sdf')\n",
    "for m in mols:\n",
    "    AllChem.EmbedMolecule(m)\t\t# calculates 3D structure\n",
    "    AllChem.UFFOptimizeMolecule(m)\t# improves quality of the conformation\n",
    "    w.write(m)\n",
    "```"
   ]
  },
  {
   "cell_type": "code",
   "execution_count": null,
   "metadata": {},
   "outputs": [],
   "source": [
    "# calculate 3D structure and write to SDF file"
   ]
  },
  {
   "attachments": {},
   "cell_type": "markdown",
   "metadata": {},
   "source": [
    "### Task 3.5\n",
    "\n",
    "With everything in hand, we can finally run our docking calculation using Smina with the following command:\n",
    "```\n",
    "smina --ligand test_ligand.sdf --receptor protein.pdbqt --out docking_poses.sdf --autobox_ligand ligand.pdbqt --num_modes 1\n",
    "````\n",
    "We will use the binding site of the co-crystallized ligand as a template for docking the compounds. But if you have time, you could also use the geometric center and radius from DogSiteScorer as the binding pocket. Your docked compounds will all be in `docking_poses.sdf`. "
   ]
  },
  {
   "attachments": {},
   "cell_type": "markdown",
   "metadata": {},
   "source": [
    "## Task 4: Visualize docking results \n",
    "\n",
    "To visualize your docking results, we will use the NGLView package which can display the structures in 3D and interactively in jupyter directly. \n",
    "\n",
    "Helpful tutorial: [T015-Protein ligand docking](https://projects.volkamerlab.org/teachopencadd/talktorials/T015_protein_ligand_docking.html)\n"
   ]
  },
  {
   "attachments": {},
   "cell_type": "markdown",
   "metadata": {},
   "source": [
    "### Task 4.1 \n",
    "\n",
    "First you have to split your SD file with the docking poses, so that each docked compound is in a separate file. This makes it easier to visualize with NGLView in the next task. Call the function defined below to split your docking pose file. "
   ]
  },
  {
   "cell_type": "code",
   "execution_count": null,
   "metadata": {},
   "outputs": [],
   "source": [
    "def split_sdf_file(sdf_path):\n",
    "    \"\"\"\n",
    "    Split an SDF file into seperate files for each molecule.\n",
    "    Each file is named with consecutive numbers.\n",
    "\n",
    "    Parameters\n",
    "    ----------\n",
    "    sdf_path: str or pathlib.Path\n",
    "        Path to SDF file that should be split.\n",
    "    \"\"\"\n",
    "    sdf_path = Path(sdf_path)\n",
    "    stem = sdf_path.stem\n",
    "    parent = sdf_path.parent\n",
    "    molecules = pybel.readfile(\"sdf\", str(sdf_path))\n",
    "    for i, molecule in enumerate(molecules, 1):\n",
    "        molecule.write(\"sdf\", str(parent / f\"{stem}_{i}.sdf\"), overwrite=True)\n",
    "    return\n"
   ]
  },
  {
   "cell_type": "code",
   "execution_count": null,
   "metadata": {},
   "outputs": [],
   "source": [
    "# split sd file "
   ]
  },
  {
   "attachments": {},
   "cell_type": "markdown",
   "metadata": {},
   "source": [
    "### Task 4.2 \n",
    "\n",
    "Now you can use NGLView to inspect your docking results one by one.\n",
    "- One simple example to use NGLView given a PDB ID: "
   ]
  },
  {
   "cell_type": "code",
   "execution_count": null,
   "metadata": {},
   "outputs": [],
   "source": [
    "view = nv.show_pdbid(pdb_id)\n",
    "view\n"
   ]
  },
  {
   "attachments": {},
   "cell_type": "markdown",
   "metadata": {},
   "source": [
    "To view your docking pose, you will need to display the ligand from your sdf and the protein: \n",
    "\n",
    "```ruby\n",
    "docking_pose_id = 1\n",
    "view = nv.show_structure_file(\n",
    "    str(DATA / f\"docking_poses_{docking_pose_id}.sdf\"),         # add path to your docking pose \n",
    "    representations=[{\"params\": {}, \"type\": \"licorice\"}],\n",
    ")\n",
    "view.add_pdbid(pdb_id)\n",
    "view\n",
    "``` "
   ]
  },
  {
   "cell_type": "code",
   "execution_count": null,
   "metadata": {},
   "outputs": [],
   "source": [
    "# use nglview to visualize docking pose  "
   ]
  },
  {
   "attachments": {},
   "cell_type": "markdown",
   "metadata": {},
   "source": [
    "To interpret your docking results, there are several indicators you can look at if you have time:  \n",
    "- Which compounds/poses have the best docking scores (given as output from smina directly)?\n",
    "- Visually inspect the results using a molecule viewer to analyze the binding mode and compare them to the co-crystallized ligand or other known EGFR inhibitors. \n",
    "- Is the binding site well covered? Do protein and pose fit to each other (shape and physico-chemically). Are key interactions (e.g. hinge binding motif) present. You can also use [PoseView](https://proteins.plus/) for inspection which generates 2D diagram of protein-ligand interactions.\n",
    "\n",
    "Based on these (and other criteria you can think of), you can filter your compounds down further. In the end, you should select a few compounds that seem to be most promising to you."
   ]
  }
 ],
 "metadata": {
  "kernelspec": {
   "display_name": "Python 3 (ipykernel)",
   "language": "python",
   "name": "python3"
  },
  "language_info": {
   "codemirror_mode": {
    "name": "ipython",
    "version": 3
   },
   "file_extension": ".py",
   "mimetype": "text/x-python",
   "name": "python",
   "nbconvert_exporter": "python",
   "pygments_lexer": "ipython3",
   "version": "3.10.10"
  }
 },
 "nbformat": 4,
 "nbformat_minor": 4
}
